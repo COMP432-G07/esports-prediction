{
 "cells": [
  {
   "cell_type": "code",
   "execution_count": 42,
   "metadata": {},
   "outputs": [],
   "source": [
    "import pandas as pd\n",
    "import numpy as np\n",
    "import matplotlib\n",
    "import matplotlib.pyplot as plt\n",
    "import sklearn\n",
    "import sklearn.model_selection\n",
    "import sklearn.dummy\n",
    "import sklearn.neighbors\n",
    "import sklearn.ensemble\n",
    "import torch"
   ]
  },
  {
   "cell_type": "code",
   "execution_count": 43,
   "metadata": {},
   "outputs": [
    {
     "data": {
      "text/plain": "                         tier  game_duration  winning_team  first_champion  \\\nmatch_id                                                                     \nEUW1_5479661889        BRONZE           1797             1               1   \nEUW1_5479575964        BRONZE           1719             1               1   \nEUW1_5479499524        BRONZE           1352            -1              -1   \nEUW1_5479492935        BRONZE           1647            -1              -1   \nEUW1_5479357161        BRONZE           1509            -1              -1   \n...                       ...            ...           ...             ...   \nEUW1_5544360421  GRANDMASTERS           1928            -1               1   \nEUW1_5544335270  GRANDMASTERS           1101            -1              -1   \nEUW1_5544282724  GRANDMASTERS           1788             1              -1   \nEUW1_5544046900  GRANDMASTERS           2133             1              -1   \nEUW1_5543889504  GRANDMASTERS           1461            -1              -1   \n\n                 first_tower  first_inhibitor  first_baron  first_dragon  \nmatch_id                                                                  \nEUW1_5479661889            1                1            1             1  \nEUW1_5479575964           -1                1            0             1  \nEUW1_5479499524           -1               -1            0             1  \nEUW1_5479492935            1               -1            0            -1  \nEUW1_5479357161           -1               -1            0            -1  \n...                      ...              ...          ...           ...  \nEUW1_5544360421           -1               -1           -1             1  \nEUW1_5544335270           -1                0            0            -1  \nEUW1_5544282724            1                1            1            -1  \nEUW1_5544046900            1                1            1             1  \nEUW1_5543889504            1               -1           -1            -1  \n\n[36340 rows x 8 columns]",
      "text/html": "<div>\n<style scoped>\n    .dataframe tbody tr th:only-of-type {\n        vertical-align: middle;\n    }\n\n    .dataframe tbody tr th {\n        vertical-align: top;\n    }\n\n    .dataframe thead th {\n        text-align: right;\n    }\n</style>\n<table border=\"1\" class=\"dataframe\">\n  <thead>\n    <tr style=\"text-align: right;\">\n      <th></th>\n      <th>tier</th>\n      <th>game_duration</th>\n      <th>winning_team</th>\n      <th>first_champion</th>\n      <th>first_tower</th>\n      <th>first_inhibitor</th>\n      <th>first_baron</th>\n      <th>first_dragon</th>\n    </tr>\n    <tr>\n      <th>match_id</th>\n      <th></th>\n      <th></th>\n      <th></th>\n      <th></th>\n      <th></th>\n      <th></th>\n      <th></th>\n      <th></th>\n    </tr>\n  </thead>\n  <tbody>\n    <tr>\n      <th>EUW1_5479661889</th>\n      <td>BRONZE</td>\n      <td>1797</td>\n      <td>1</td>\n      <td>1</td>\n      <td>1</td>\n      <td>1</td>\n      <td>1</td>\n      <td>1</td>\n    </tr>\n    <tr>\n      <th>EUW1_5479575964</th>\n      <td>BRONZE</td>\n      <td>1719</td>\n      <td>1</td>\n      <td>1</td>\n      <td>-1</td>\n      <td>1</td>\n      <td>0</td>\n      <td>1</td>\n    </tr>\n    <tr>\n      <th>EUW1_5479499524</th>\n      <td>BRONZE</td>\n      <td>1352</td>\n      <td>-1</td>\n      <td>-1</td>\n      <td>-1</td>\n      <td>-1</td>\n      <td>0</td>\n      <td>1</td>\n    </tr>\n    <tr>\n      <th>EUW1_5479492935</th>\n      <td>BRONZE</td>\n      <td>1647</td>\n      <td>-1</td>\n      <td>-1</td>\n      <td>1</td>\n      <td>-1</td>\n      <td>0</td>\n      <td>-1</td>\n    </tr>\n    <tr>\n      <th>EUW1_5479357161</th>\n      <td>BRONZE</td>\n      <td>1509</td>\n      <td>-1</td>\n      <td>-1</td>\n      <td>-1</td>\n      <td>-1</td>\n      <td>0</td>\n      <td>-1</td>\n    </tr>\n    <tr>\n      <th>...</th>\n      <td>...</td>\n      <td>...</td>\n      <td>...</td>\n      <td>...</td>\n      <td>...</td>\n      <td>...</td>\n      <td>...</td>\n      <td>...</td>\n    </tr>\n    <tr>\n      <th>EUW1_5544360421</th>\n      <td>GRANDMASTERS</td>\n      <td>1928</td>\n      <td>-1</td>\n      <td>1</td>\n      <td>-1</td>\n      <td>-1</td>\n      <td>-1</td>\n      <td>1</td>\n    </tr>\n    <tr>\n      <th>EUW1_5544335270</th>\n      <td>GRANDMASTERS</td>\n      <td>1101</td>\n      <td>-1</td>\n      <td>-1</td>\n      <td>-1</td>\n      <td>0</td>\n      <td>0</td>\n      <td>-1</td>\n    </tr>\n    <tr>\n      <th>EUW1_5544282724</th>\n      <td>GRANDMASTERS</td>\n      <td>1788</td>\n      <td>1</td>\n      <td>-1</td>\n      <td>1</td>\n      <td>1</td>\n      <td>1</td>\n      <td>-1</td>\n    </tr>\n    <tr>\n      <th>EUW1_5544046900</th>\n      <td>GRANDMASTERS</td>\n      <td>2133</td>\n      <td>1</td>\n      <td>-1</td>\n      <td>1</td>\n      <td>1</td>\n      <td>1</td>\n      <td>1</td>\n    </tr>\n    <tr>\n      <th>EUW1_5543889504</th>\n      <td>GRANDMASTERS</td>\n      <td>1461</td>\n      <td>-1</td>\n      <td>-1</td>\n      <td>1</td>\n      <td>-1</td>\n      <td>-1</td>\n      <td>-1</td>\n    </tr>\n  </tbody>\n</table>\n<p>36340 rows × 8 columns</p>\n</div>"
     },
     "execution_count": 43,
     "metadata": {},
     "output_type": "execute_result"
    }
   ],
   "source": [
    "# read both the matches and the frames\n",
    "match_df = pd.read_csv('../output/csv/lol-data-matches-fixed-duration.csv')\n",
    "frame_df = pd.read_csv('../output/csv/lol-data-match-frames.csv')\n",
    "\n",
    "# set the index of the match id\n",
    "match_df = match_df.set_index('match_id')\n",
    "\n",
    "# Drop the columns we do not need\n",
    "match_df.drop(labels=['count','division','patch','region','first_rift_herald'], axis=1, inplace=True)\n",
    "\n",
    "# Fill all values that are not filled out\n",
    "match_df.fillna(0, inplace=True)\n",
    "\n",
    "# Remove any matches with no winning team\n",
    "match_df = match_df[match_df.winning_team!=0]\n",
    "\n",
    "# Change the IDs of blue side and red side to 1 and -1, respectively\n",
    "match_df.replace({\n",
    "    'winning_team': {100: 1, 200: -1},\n",
    "    'first_champion': {100: 1, 200: -1},\n",
    "    'first_tower': {100: 1, 200: -1},\n",
    "    'first_inhibitor': {100: 1, 200: -1},\n",
    "    'first_baron': {100: 1, 200: -1},\n",
    "    'first_dragon': {100: 1, 200: -1},\n",
    "}, inplace=True)\n",
    "\n",
    "# Reinterpret all values as int32s\n",
    "match_df = match_df.astype({\n",
    "    'winning_team': 'int32',\n",
    "    'first_champion': 'int32',\n",
    "    'first_tower': 'int32',\n",
    "    'first_inhibitor': 'int32',\n",
    "    'first_baron': 'int32',\n",
    "    'first_dragon': 'int32',\n",
    "})\n",
    "match_df"
   ]
  },
  {
   "cell_type": "code",
   "execution_count": 44,
   "metadata": {},
   "outputs": [
    {
     "data": {
      "text/plain": "                         tier  game_duration  winning_team  first_champion  \\\nmatch_id                                                                     \nEUW1_5479661889        BRONZE           1797             1               1   \nEUW1_5479661889        BRONZE           1797             1               1   \nEUW1_5479661889        BRONZE           1797             1               1   \nEUW1_5479661889        BRONZE           1797             1               1   \nEUW1_5479661889        BRONZE           1797             1               1   \n...                       ...            ...           ...             ...   \nEUW1_5543889504  GRANDMASTERS           1461            -1              -1   \nEUW1_5543889504  GRANDMASTERS           1461            -1              -1   \nEUW1_5543889504  GRANDMASTERS           1461            -1              -1   \nEUW1_5543889504  GRANDMASTERS           1461            -1              -1   \nEUW1_5543889504  GRANDMASTERS           1461            -1              -1   \n\n                 first_tower  first_inhibitor  first_baron  first_dragon  \\\nmatch_id                                                                   \nEUW1_5479661889            1                1            1             1   \nEUW1_5479661889            1                1            1             1   \nEUW1_5479661889            1                1            1             1   \nEUW1_5479661889            1                1            1             1   \nEUW1_5479661889            1                1            1             1   \n...                      ...              ...          ...           ...   \nEUW1_5543889504            1               -1           -1            -1   \nEUW1_5543889504            1               -1           -1            -1   \nEUW1_5543889504            1               -1           -1            -1   \nEUW1_5543889504            1               -1           -1            -1   \nEUW1_5543889504            1               -1           -1            -1   \n\n                  count  frame  ...  red_total_kills  red_total_gold  \\\nmatch_id                        ...                                    \nEUW1_5479661889   80697      0  ...                0            2500   \nEUW1_5479661889   80698      1  ...                0            2500   \nEUW1_5479661889   80699      2  ...                0            2889   \nEUW1_5479661889   80700      3  ...                0            4423   \nEUW1_5479661889   80701      4  ...                0            5701   \n...                 ...    ...  ...              ...             ...   \nEUW1_5543889504  824350     21  ...               27           48140   \nEUW1_5543889504  824351     22  ...               27           52429   \nEUW1_5543889504  824352     23  ...               32           54304   \nEUW1_5543889504  824353     24  ...               32           57442   \nEUW1_5543889504  824354     25  ...               36           60033   \n\n                 red_total_cs  red_total_damage  red_towers  red_plates  \\\nmatch_id                                                                  \nEUW1_5479661889             0                 0           0           0   \nEUW1_5479661889             0                 0           0           0   \nEUW1_5479661889            13               323           0           0   \nEUW1_5479661889            53              1785           0           0   \nEUW1_5479661889            79              2828           0           0   \n...                       ...               ...         ...         ...   \nEUW1_5543889504           724             52148           2          11   \nEUW1_5543889504           758             61645           2          11   \nEUW1_5543889504           773             69206           2          11   \nEUW1_5543889504           793             76620           2          11   \nEUW1_5543889504           807             82744           2          11   \n\n                 red_inhibitors  red_barons  red_dragons  red_rift_heralds  \nmatch_id                                                                    \nEUW1_5479661889               0           0            0                 0  \nEUW1_5479661889               0           0            0                 0  \nEUW1_5479661889               0           0            0                 0  \nEUW1_5479661889               0           0            0                 0  \nEUW1_5479661889               0           0            0                 0  \n...                         ...         ...          ...               ...  \nEUW1_5543889504               0           0            3                 1  \nEUW1_5543889504               0           1            3                 1  \nEUW1_5543889504               0           1            3                 1  \nEUW1_5543889504               0           1            3                 1  \nEUW1_5543889504               0           1            3                 1  \n\n[1082484 rows x 30 columns]",
      "text/html": "<div>\n<style scoped>\n    .dataframe tbody tr th:only-of-type {\n        vertical-align: middle;\n    }\n\n    .dataframe tbody tr th {\n        vertical-align: top;\n    }\n\n    .dataframe thead th {\n        text-align: right;\n    }\n</style>\n<table border=\"1\" class=\"dataframe\">\n  <thead>\n    <tr style=\"text-align: right;\">\n      <th></th>\n      <th>tier</th>\n      <th>game_duration</th>\n      <th>winning_team</th>\n      <th>first_champion</th>\n      <th>first_tower</th>\n      <th>first_inhibitor</th>\n      <th>first_baron</th>\n      <th>first_dragon</th>\n      <th>count</th>\n      <th>frame</th>\n      <th>...</th>\n      <th>red_total_kills</th>\n      <th>red_total_gold</th>\n      <th>red_total_cs</th>\n      <th>red_total_damage</th>\n      <th>red_towers</th>\n      <th>red_plates</th>\n      <th>red_inhibitors</th>\n      <th>red_barons</th>\n      <th>red_dragons</th>\n      <th>red_rift_heralds</th>\n    </tr>\n    <tr>\n      <th>match_id</th>\n      <th></th>\n      <th></th>\n      <th></th>\n      <th></th>\n      <th></th>\n      <th></th>\n      <th></th>\n      <th></th>\n      <th></th>\n      <th></th>\n      <th></th>\n      <th></th>\n      <th></th>\n      <th></th>\n      <th></th>\n      <th></th>\n      <th></th>\n      <th></th>\n      <th></th>\n      <th></th>\n      <th></th>\n    </tr>\n  </thead>\n  <tbody>\n    <tr>\n      <th>EUW1_5479661889</th>\n      <td>BRONZE</td>\n      <td>1797</td>\n      <td>1</td>\n      <td>1</td>\n      <td>1</td>\n      <td>1</td>\n      <td>1</td>\n      <td>1</td>\n      <td>80697</td>\n      <td>0</td>\n      <td>...</td>\n      <td>0</td>\n      <td>2500</td>\n      <td>0</td>\n      <td>0</td>\n      <td>0</td>\n      <td>0</td>\n      <td>0</td>\n      <td>0</td>\n      <td>0</td>\n      <td>0</td>\n    </tr>\n    <tr>\n      <th>EUW1_5479661889</th>\n      <td>BRONZE</td>\n      <td>1797</td>\n      <td>1</td>\n      <td>1</td>\n      <td>1</td>\n      <td>1</td>\n      <td>1</td>\n      <td>1</td>\n      <td>80698</td>\n      <td>1</td>\n      <td>...</td>\n      <td>0</td>\n      <td>2500</td>\n      <td>0</td>\n      <td>0</td>\n      <td>0</td>\n      <td>0</td>\n      <td>0</td>\n      <td>0</td>\n      <td>0</td>\n      <td>0</td>\n    </tr>\n    <tr>\n      <th>EUW1_5479661889</th>\n      <td>BRONZE</td>\n      <td>1797</td>\n      <td>1</td>\n      <td>1</td>\n      <td>1</td>\n      <td>1</td>\n      <td>1</td>\n      <td>1</td>\n      <td>80699</td>\n      <td>2</td>\n      <td>...</td>\n      <td>0</td>\n      <td>2889</td>\n      <td>13</td>\n      <td>323</td>\n      <td>0</td>\n      <td>0</td>\n      <td>0</td>\n      <td>0</td>\n      <td>0</td>\n      <td>0</td>\n    </tr>\n    <tr>\n      <th>EUW1_5479661889</th>\n      <td>BRONZE</td>\n      <td>1797</td>\n      <td>1</td>\n      <td>1</td>\n      <td>1</td>\n      <td>1</td>\n      <td>1</td>\n      <td>1</td>\n      <td>80700</td>\n      <td>3</td>\n      <td>...</td>\n      <td>0</td>\n      <td>4423</td>\n      <td>53</td>\n      <td>1785</td>\n      <td>0</td>\n      <td>0</td>\n      <td>0</td>\n      <td>0</td>\n      <td>0</td>\n      <td>0</td>\n    </tr>\n    <tr>\n      <th>EUW1_5479661889</th>\n      <td>BRONZE</td>\n      <td>1797</td>\n      <td>1</td>\n      <td>1</td>\n      <td>1</td>\n      <td>1</td>\n      <td>1</td>\n      <td>1</td>\n      <td>80701</td>\n      <td>4</td>\n      <td>...</td>\n      <td>0</td>\n      <td>5701</td>\n      <td>79</td>\n      <td>2828</td>\n      <td>0</td>\n      <td>0</td>\n      <td>0</td>\n      <td>0</td>\n      <td>0</td>\n      <td>0</td>\n    </tr>\n    <tr>\n      <th>...</th>\n      <td>...</td>\n      <td>...</td>\n      <td>...</td>\n      <td>...</td>\n      <td>...</td>\n      <td>...</td>\n      <td>...</td>\n      <td>...</td>\n      <td>...</td>\n      <td>...</td>\n      <td>...</td>\n      <td>...</td>\n      <td>...</td>\n      <td>...</td>\n      <td>...</td>\n      <td>...</td>\n      <td>...</td>\n      <td>...</td>\n      <td>...</td>\n      <td>...</td>\n      <td>...</td>\n    </tr>\n    <tr>\n      <th>EUW1_5543889504</th>\n      <td>GRANDMASTERS</td>\n      <td>1461</td>\n      <td>-1</td>\n      <td>-1</td>\n      <td>1</td>\n      <td>-1</td>\n      <td>-1</td>\n      <td>-1</td>\n      <td>824350</td>\n      <td>21</td>\n      <td>...</td>\n      <td>27</td>\n      <td>48140</td>\n      <td>724</td>\n      <td>52148</td>\n      <td>2</td>\n      <td>11</td>\n      <td>0</td>\n      <td>0</td>\n      <td>3</td>\n      <td>1</td>\n    </tr>\n    <tr>\n      <th>EUW1_5543889504</th>\n      <td>GRANDMASTERS</td>\n      <td>1461</td>\n      <td>-1</td>\n      <td>-1</td>\n      <td>1</td>\n      <td>-1</td>\n      <td>-1</td>\n      <td>-1</td>\n      <td>824351</td>\n      <td>22</td>\n      <td>...</td>\n      <td>27</td>\n      <td>52429</td>\n      <td>758</td>\n      <td>61645</td>\n      <td>2</td>\n      <td>11</td>\n      <td>0</td>\n      <td>1</td>\n      <td>3</td>\n      <td>1</td>\n    </tr>\n    <tr>\n      <th>EUW1_5543889504</th>\n      <td>GRANDMASTERS</td>\n      <td>1461</td>\n      <td>-1</td>\n      <td>-1</td>\n      <td>1</td>\n      <td>-1</td>\n      <td>-1</td>\n      <td>-1</td>\n      <td>824352</td>\n      <td>23</td>\n      <td>...</td>\n      <td>32</td>\n      <td>54304</td>\n      <td>773</td>\n      <td>69206</td>\n      <td>2</td>\n      <td>11</td>\n      <td>0</td>\n      <td>1</td>\n      <td>3</td>\n      <td>1</td>\n    </tr>\n    <tr>\n      <th>EUW1_5543889504</th>\n      <td>GRANDMASTERS</td>\n      <td>1461</td>\n      <td>-1</td>\n      <td>-1</td>\n      <td>1</td>\n      <td>-1</td>\n      <td>-1</td>\n      <td>-1</td>\n      <td>824353</td>\n      <td>24</td>\n      <td>...</td>\n      <td>32</td>\n      <td>57442</td>\n      <td>793</td>\n      <td>76620</td>\n      <td>2</td>\n      <td>11</td>\n      <td>0</td>\n      <td>1</td>\n      <td>3</td>\n      <td>1</td>\n    </tr>\n    <tr>\n      <th>EUW1_5543889504</th>\n      <td>GRANDMASTERS</td>\n      <td>1461</td>\n      <td>-1</td>\n      <td>-1</td>\n      <td>1</td>\n      <td>-1</td>\n      <td>-1</td>\n      <td>-1</td>\n      <td>824354</td>\n      <td>25</td>\n      <td>...</td>\n      <td>36</td>\n      <td>60033</td>\n      <td>807</td>\n      <td>82744</td>\n      <td>2</td>\n      <td>11</td>\n      <td>0</td>\n      <td>1</td>\n      <td>3</td>\n      <td>1</td>\n    </tr>\n  </tbody>\n</table>\n<p>1082484 rows × 30 columns</p>\n</div>"
     },
     "execution_count": 44,
     "metadata": {},
     "output_type": "execute_result"
    }
   ],
   "source": [
    "# Merge the match dataframe and the frame dataframe into one common table\n",
    "df = match_df.merge(frame_df,left_on='match_id', right_on='match_id').set_index('match_id')\n",
    "df\n",
    "\n",
    "\n",
    "\n"
   ]
  },
  {
   "cell_type": "code",
   "execution_count": 45,
   "metadata": {},
   "outputs": [],
   "source": [
    "## Here we train a dummy classifier to compare performance\n",
    "\n",
    "def train_dummy_classifier(X, y):\n",
    "    X_trn, X_tst, y_trn, y_tst = sklearn.model_selection.train_test_split(X, y, test_size=0.33, random_state=0)\n",
    "    dummy_clf = sklearn.dummy.DummyClassifier(strategy='uniform', random_state=0)\n",
    "    # Scale the data with MinMax to avoid negative values\n",
    "    scaler = sklearn.preprocessing.MinMaxScaler()\n",
    "    scaler.fit(X_trn)\n",
    "    X_trn = scaler.transform(X_trn)\n",
    "    X_tst = scaler.transform(X_tst)\n",
    "\n",
    "    dummy_clf.fit(X_trn,y_trn)\n",
    "    print(dummy_clf.score(X_tst, y_tst))"
   ]
  },
  {
   "cell_type": "code",
   "execution_count": 46,
   "metadata": {},
   "outputs": [
    {
     "name": "stdout",
     "output_type": "stream",
     "text": [
      "TRAINING ON FRAME #25\n"
     ]
    }
   ],
   "source": [
    "# Loop created to go through every frame in the data set. \n",
    "# For each frame, pick all corresponding data points, and \n",
    "# train both the neural network and the dummy classifier\n",
    "# with it\n",
    "current_frame = 25\n",
    "\n",
    "print(\"TRAINING ON FRAME #%i\" % current_frame)\n",
    "# Get the values of X and y for a given frame\n",
    "X = df[df.frame==current_frame][[\n",
    "    'blue_total_kills',\n",
    "    'blue_total_gold',\n",
    "    'blue_total_cs',\n",
    "    'blue_total_damage',\n",
    "    'blue_towers', \n",
    "    'blue_plates',\n",
    "    'blue_inhibitors', \n",
    "    'blue_barons', \n",
    "    'blue_dragons', \n",
    "    'blue_rift_heralds',\n",
    "    'red_total_kills', \n",
    "    'red_total_gold', \n",
    "    'red_total_cs', \n",
    "    'red_total_damage',\n",
    "    'red_towers', \n",
    "    'red_plates', \n",
    "    'red_inhibitors', \n",
    "    'red_barons',\n",
    "    'red_dragons', \n",
    "    'red_rift_heralds',\n",
    "]].values\n",
    "y = df[df.frame==current_frame]['winning_team'].values\n",
    "\n",
    "# Convert -1 and +1 to 0 and 1 for the tensors to work\n",
    "y = np.interp(y, (-1,+1), (0, 1)).astype(np.int32)\n",
    "\n",
    "# Two things occur here:\n",
    "# 1. Normalize the data from values to a distribution [0,1] in l1 norm\n",
    "#    e.g if Red side has 11 kill, and Blue has 9, we represent it as\n",
    "#        0.55 and 0.45, respectively.\n",
    "# 2. Collapse each blue features to their red features by subtracting them\n",
    "#    e.g for ourprevious example, subtracting blue from red would result\n",
    "#        to having 0.55-0.45 = 0.1. Hence a 10% advantage for blue\n",
    "#        FIXME: could be an arbitrary x[0,:] - 0.5 to avoid doubling up\n",
    "def combine(x):\n",
    "    x = sklearn.preprocessing.normalize(x.reshape(2,10), norm='l1', axis=0)\n",
    "    return x.reshape(20)\n",
    "# Normalize the data to have 10 features \n",
    "# corresponding to a better comparison.\n",
    "X = np.apply_along_axis(combine, 1, X)\n"
   ]
  },
  {
   "cell_type": "code",
   "execution_count": 47,
   "outputs": [],
   "source": [
    "#Split data\n",
    "X_trn, X_tst, y_trn, y_tst = sklearn.model_selection.train_test_split(X, y, test_size=0.4)"
   ],
   "metadata": {
    "collapsed": false,
    "pycharm": {
     "name": "#%%\n"
    }
   }
  },
  {
   "cell_type": "code",
   "execution_count": 48,
   "outputs": [],
   "source": [
    "def score_estimators(X, y, estimators):\n",
    "    \"\"\"Scores each estimator on (X, y), returning a list of scores.\"\"\"\n",
    "    # Your implementation here. Aim for 1-4 lines.\n",
    "    scores = np.zeros_like(estimators)\n",
    "    for x in range(len(estimators)):\n",
    "        scores[x] = sklearn.metrics.accuracy_score(y, estimators[x].predict(X))\n",
    "    return scores"
   ],
   "metadata": {
    "collapsed": false,
    "pycharm": {
     "name": "#%%\n"
    }
   }
  },
  {
   "cell_type": "code",
   "execution_count": 49,
   "outputs": [],
   "source": [
    "def plot_estimator_scores(estimators, param_name, param_vals):\n",
    "    \"\"\"\n",
    "    Plots the training, validation, and testing scores of a list of estimators,\n",
    "    where `param_name` and `param_vals` are the same as for `train_estimators`.\n",
    "    The estimator with best validation score will be highlighted with an 'x'.\n",
    "    \"\"\"\n",
    "    # Your implementation here. Use as many lines as you need\n",
    "    plt.figure()\n",
    "    X = np.arange(0, len(param_vals))\n",
    "    trn_scores = score_estimators(X_trn, y_trn, estimators)\n",
    "    tst_scores = score_estimators(X_tst, y_tst, estimators)\n",
    "    index = np.argmin(trn_scores - tst_scores)\n",
    "    print(tst_scores[index])\n",
    "    plt.title(estimators[0].__class__.__name__ + \" score vs \" + param_name)\n",
    "    plt.xlabel(param_name)\n",
    "    plt.ylabel(\"score\")\n",
    "    plt.ylim(0.0, 1.05)\n",
    "    plt.scatter(X[index], tst_scores[index], marker='x', color='black', s=200)\n",
    "    plt.plot(X, trn_scores, marker='o', color='green', markerfacecolor='green', label=\"train\")\n",
    "    plt.plot(X, tst_scores, marker='o', color='red', markerfacecolor='red', label=\"test\")\n",
    "    plt.text(0, 0.4,\n",
    "             \"Optimal Test Accuracy = %.2f%% with %s = %d \" % (tst_scores[index] * 100, param_name, param_vals[index]))\n",
    "    plt.legend()\n",
    "    plt.xticks(X, param_vals)"
   ],
   "metadata": {
    "collapsed": false,
    "pycharm": {
     "name": "#%%\n"
    }
   }
  },
  {
   "cell_type": "code",
   "execution_count": 50,
   "outputs": [],
   "source": [
    "\n",
    "def train_estimators(X, y, estimator_type, param_name, param_vals, **kwargs):\n",
    "    estimators = [0 for i in range(len(param_vals))]\n",
    "    for x in range(len(param_vals)):\n",
    "        estimators[x] = estimator_type(**{param_name: param_vals[x]}, **kwargs).fit(X, y)\n",
    "        # Training DecisionTreeClassifier(max_depth=1, random_state=0, splitter='random')...\n",
    "        print(\"Training \" + estimator_type.__name__ + \"(\" + param_name + \"=%d \" % param_vals[x] + \" {0}={1} \".format(\n",
    "            kwargs.keys(), kwargs.values()))\n",
    "    return estimators"
   ],
   "metadata": {
    "collapsed": false,
    "pycharm": {
     "name": "#%%\n"
    }
   }
  },
  {
   "cell_type": "code",
   "execution_count": 51,
   "outputs": [],
   "source": [
    "def train_kNN_estimators(X, y):\n",
    "    #X_trn, X_tst, y_trn, y_tst = sklearn.model_selection.train_test_split(X, y, test_size=0.4)\n",
    "\n",
    "    param_vals = [1, 5, 10, 15, 20]\n",
    "\n",
    "    knn_estimators = train_estimators(X_trn, y_trn, sklearn.neighbors.KNeighborsClassifier, 'n_neighbors',\n",
    "                                      param_vals=param_vals)\n",
    "\n",
    "    plot_estimator_scores(knn_estimators, param_name='n_neighbors', param_vals=param_vals)\n",
    "\n"
   ],
   "metadata": {
    "collapsed": false,
    "pycharm": {
     "name": "#%%\n"
    }
   }
  },
  {
   "cell_type": "code",
   "execution_count": 52,
   "outputs": [],
   "source": [
    "\n",
    "def train_random_forests(X, y):\n",
    "    X_trn, X_tst, y_trn, y_tst = sklearn.model_selection.train_test_split(X, y, test_size=0.33, random_state=0)\n",
    "    scaler = sklearn.preprocessing.MinMaxScaler()\n",
    "    X_trn = scaler.fit_transform(X_trn)\n",
    "    X_tst = scaler.fit_transform(X_tst)\n",
    "    estimator = np.arange(1, 6) * 50\n",
    "    depths = np.arange(1, 6) * 5\n",
    "    estimators_meshed, depths_meshed = np.meshgrid(estimator, depths)\n",
    "\n",
    "    trn_scores = np.arange(0, 25, dtype=float)\n",
    "    tst_scores = np.arange(0, 25, dtype=float)\n",
    "    X_axis = np.arange(0, 25)\n",
    "    para_vals = np.array(\n",
    "        [\"50:5\", \"50:10\", \"50:15\", \"50:20\", \"50:25\", \"100:5\", \"100:10\", \"100:15\", \"100:20\", \"100:25\", \"150:5\", \"150:10\",\n",
    "         \"150:15\", \"150:20\", \"150:25\", \"200:5\", \"200:10\", \"200:15\", \"200:20\", \"200:25\", \"250:5\", \"250:10\", \"250:15\",\n",
    "         \"250:20\", \"250:25\"])\n",
    "    for i in range(5):\n",
    "        for j in range(5):\n",
    "            random_forest_model = sklearn.ensemble.RandomForestClassifier(n_estimators=estimators_meshed[j][i],\n",
    "                                                                          max_depth=depths_meshed[j][i],\n",
    "                                                                          random_state=0).fit(X_trn, y_trn)\n",
    "            trn_scores[i * 5 + j] = sklearn.metrics.accuracy_score(y_trn, random_forest_model.predict(X_trn))\n",
    "            print(\"Training Accuracy: %.2f %% with estimators = %d , depth = %d \\n\" % (\n",
    "                trn_scores[i * 5 + j] * 100, estimators_meshed[j][i], depths_meshed[j][i]))\n",
    "            tst_scores[i * 5 + j] = sklearn.metrics.accuracy_score(y_tst, random_forest_model.predict(X_tst))\n",
    "            print(\"Test Accuracy: %.2f %% with estimators = %d , depth = %d \\n\" % (\n",
    "                tst_scores[i * 5 + j] * 100, estimators_meshed[j][i], depths_meshed[j][i]))\n",
    "    plt.figure()\n",
    "    plt.title(\"Random Forests score vs estimators : depth\")\n",
    "    plt.xlabel(\"estimators : depth\")\n",
    "    plt.ylabel(\"score\")\n",
    "    plt.ylim(0.0, 1.05)\n",
    "    index = np.argmin(trn_scores - tst_scores)\n",
    "    plt.scatter(X_axis[index], trn_scores[index], marker='x', color='black', s=200)\n",
    "    plt.plot(X_axis, trn_scores, marker='o', color='green', markerfacecolor='green', label=\"train\")\n",
    "    plt.plot(X_axis, tst_scores, marker='o', color='red', markerfacecolor='red', label=\"test\")\n",
    "    plt.legend()\n",
    "    plt.text(0, 0.4,\n",
    "             \"Optimal Test Accuracy = %.2f%% with estimators : depth = %s \" % (tst_scores[index] * 100, para_vals[index]))\n",
    "    plt.xticks(X_axis, para_vals, fontsize=5)\n"
   ],
   "metadata": {
    "collapsed": false,
    "pycharm": {
     "name": "#%%\n"
    }
   }
  },
  {
   "cell_type": "code",
   "execution_count": 55,
   "metadata": {},
   "outputs": [],
   "source": [
    "## This is the neural network trained in Lab 8\n",
    "\n",
    "def train_neural_network(X, y):\n",
    "    # Split the data 2/3 to 1/3\n",
    "    X_trn, X_tst, y_trn, y_tst = sklearn.model_selection.train_test_split(X, y, test_size=0.33, random_state=0)\n",
    "    # Scale the data with MinMax to avoid negative values\n",
    "    print(X_trn.shape)\n",
    "    scaler = sklearn.preprocessing.MinMaxScaler()\n",
    "    scaler.fit(X_trn)\n",
    "    X_trn = scaler.transform(X_trn)\n",
    "    X_tst = scaler.transform(X_tst)\n",
    "\n",
    "    # Tensors setup\n",
    "    X_trn_torch = torch.tensor(X_trn, dtype=torch.float32)\n",
    "    y_trn_torch = torch.tensor(y_trn, dtype=torch.int64)\n",
    "    X_tst_torch = torch.tensor(X_tst, dtype=torch.float32)\n",
    "    y_tst_torch = torch.tensor(y_tst, dtype=torch.int64)\n",
    "\n",
    "    torch.manual_seed(0) # Ensure model weights initialized with same random numbers\n",
    "\n",
    "    # Create an object that holds a sequence of layers and activation functions\n",
    "    model = torch.nn.Sequential(\n",
    "        torch.nn.Linear(20, 10),   # Applies Wx+b from 10 dimensions down to 2\n",
    "        torch.nn.ReLU(),\n",
    "        torch.nn.Linear(10,2)\n",
    "    )\n",
    "\n",
    "    # Create an object that can compute \"negative log likelihood of a softmax\"\n",
    "    loss = torch.nn.CrossEntropyLoss()\n",
    "\n",
    "    # Use stochastic gradient descent to train the model\n",
    "    optimizer = torch.optim.SGD(model.parameters(), lr=0.1, momentum=0.9)\n",
    "\n",
    "    # Use 100 training samples at a time to compute the gradient.\n",
    "    batch_size = 200\n",
    "\n",
    "    # Make 10 passes over the training data, each time using batch_size samples to compute gradient\n",
    "    num_epoch = 10\n",
    "    next_epoch = 1\n",
    "\n",
    "    for epoch in range(next_epoch, next_epoch+num_epoch):\n",
    "        # Make an entire pass (an 'epoch') over the training data in batch_size chunks\n",
    "        for i in range(0, len(X_trn), batch_size):        \n",
    "            X_cur = X_trn_torch[i:i+batch_size]     # Slice out a mini-batch of features\n",
    "            y_cur = y_trn_torch[i:i+batch_size]     # Slice out a mini-batch of targets\n",
    "            \n",
    "            y_pred = model(X_cur)                   # Make predictions (final-layer activations)\n",
    "            l = loss(y_pred, y_cur)                 # Compute loss with respect to predictions\n",
    "            \n",
    "            model.zero_grad()                   # Reset all gradient accumulators to zero (PyTorch thing)\n",
    "            l.backward()                        # Compute gradient of loss wrt all parameters (backprop!)\n",
    "            optimizer.step()                    # Use the gradients to take a step with SGD.\n",
    "            \n",
    "        print(\"Epoch %2d: loss on final training batch: %.4f\" % (epoch, l.item()))\n",
    "        \n",
    "    print(\"Epoch %2d: loss on test set: %.4f\" % (epoch, loss(model(X_tst_torch), y_tst_torch)))\n",
    "    next_epoch = epoch+1"
   ]
  },
  {
   "cell_type": "code",
   "execution_count": 54,
   "outputs": [
    {
     "name": "stdout",
     "output_type": "stream",
     "text": [
      "Training Accuracy: 83.15 % with estimators = 50 , depth = 5 \n",
      "\n",
      "Test Accuracy: 82.46 % with estimators = 50 , depth = 5 \n",
      "\n",
      "Training Accuracy: 88.67 % with estimators = 50 , depth = 10 \n",
      "\n",
      "Test Accuracy: 82.25 % with estimators = 50 , depth = 10 \n",
      "\n",
      "Training Accuracy: 98.01 % with estimators = 50 , depth = 15 \n",
      "\n",
      "Test Accuracy: 81.85 % with estimators = 50 , depth = 15 \n",
      "\n",
      "Training Accuracy: 99.89 % with estimators = 50 , depth = 20 \n",
      "\n",
      "Test Accuracy: 82.08 % with estimators = 50 , depth = 20 \n",
      "\n",
      "Training Accuracy: 99.96 % with estimators = 50 , depth = 25 \n",
      "\n",
      "Test Accuracy: 81.71 % with estimators = 50 , depth = 25 \n",
      "\n",
      "Training Accuracy: 83.17 % with estimators = 100 , depth = 5 \n",
      "\n",
      "Test Accuracy: 82.64 % with estimators = 100 , depth = 5 \n",
      "\n",
      "Training Accuracy: 88.83 % with estimators = 100 , depth = 10 \n",
      "\n",
      "Test Accuracy: 82.56 % with estimators = 100 , depth = 10 \n",
      "\n",
      "Training Accuracy: 98.17 % with estimators = 100 , depth = 15 \n",
      "\n",
      "Test Accuracy: 82.03 % with estimators = 100 , depth = 15 \n",
      "\n",
      "Training Accuracy: 99.98 % with estimators = 100 , depth = 20 \n",
      "\n",
      "Test Accuracy: 82.15 % with estimators = 100 , depth = 20 \n",
      "\n",
      "Training Accuracy: 99.99 % with estimators = 100 , depth = 25 \n",
      "\n",
      "Test Accuracy: 82.15 % with estimators = 100 , depth = 25 \n",
      "\n",
      "Training Accuracy: 83.19 % with estimators = 150 , depth = 5 \n",
      "\n",
      "Test Accuracy: 82.73 % with estimators = 150 , depth = 5 \n",
      "\n",
      "Training Accuracy: 88.77 % with estimators = 150 , depth = 10 \n",
      "\n",
      "Test Accuracy: 82.55 % with estimators = 150 , depth = 10 \n",
      "\n",
      "Training Accuracy: 98.15 % with estimators = 150 , depth = 15 \n",
      "\n",
      "Test Accuracy: 82.21 % with estimators = 150 , depth = 15 \n",
      "\n",
      "Training Accuracy: 99.99 % with estimators = 150 , depth = 20 \n",
      "\n",
      "Test Accuracy: 82.05 % with estimators = 150 , depth = 20 \n",
      "\n",
      "Training Accuracy: 99.99 % with estimators = 150 , depth = 25 \n",
      "\n",
      "Test Accuracy: 82.02 % with estimators = 150 , depth = 25 \n",
      "\n",
      "Training Accuracy: 83.23 % with estimators = 200 , depth = 5 \n",
      "\n",
      "Test Accuracy: 82.74 % with estimators = 200 , depth = 5 \n",
      "\n",
      "Training Accuracy: 88.80 % with estimators = 200 , depth = 10 \n",
      "\n",
      "Test Accuracy: 82.63 % with estimators = 200 , depth = 10 \n",
      "\n",
      "Training Accuracy: 98.27 % with estimators = 200 , depth = 15 \n",
      "\n",
      "Test Accuracy: 82.25 % with estimators = 200 , depth = 15 \n",
      "\n",
      "Training Accuracy: 100.00 % with estimators = 200 , depth = 20 \n",
      "\n",
      "Test Accuracy: 82.10 % with estimators = 200 , depth = 20 \n",
      "\n",
      "Training Accuracy: 100.00 % with estimators = 200 , depth = 25 \n",
      "\n",
      "Test Accuracy: 82.17 % with estimators = 200 , depth = 25 \n",
      "\n",
      "Training Accuracy: 83.16 % with estimators = 250 , depth = 5 \n",
      "\n",
      "Test Accuracy: 82.77 % with estimators = 250 , depth = 5 \n",
      "\n",
      "Training Accuracy: 88.84 % with estimators = 250 , depth = 10 \n",
      "\n",
      "Test Accuracy: 82.57 % with estimators = 250 , depth = 10 \n",
      "\n",
      "Training Accuracy: 98.24 % with estimators = 250 , depth = 15 \n",
      "\n",
      "Test Accuracy: 82.12 % with estimators = 250 , depth = 15 \n",
      "\n",
      "Training Accuracy: 100.00 % with estimators = 250 , depth = 20 \n",
      "\n",
      "Test Accuracy: 82.27 % with estimators = 250 , depth = 20 \n",
      "\n",
      "Training Accuracy: 100.00 % with estimators = 250 , depth = 25 \n",
      "\n",
      "Test Accuracy: 82.07 % with estimators = 250 , depth = 25 \n",
      "\n",
      "['50:5' '50:10' '50:15' '50:20' '50:25' '100:5' '100:10' '100:15' '100:20'\n",
      " '100:25' '150:5' '150:10' '150:15' '150:20' '150:25' '200:5' '200:10'\n",
      " '200:15' '200:20' '200:25' '250:5' '250:10' '250:15' '250:20' '250:25']\n"
     ]
    },
    {
     "data": {
      "text/plain": "<Figure size 432x288 with 1 Axes>",
      "image/png": "[encoded data removed]"
     },
     "metadata": {
      "needs_background": "light"
     },
     "output_type": "display_data"
    }
   ],
   "source": [
    "#train_neural_network(X, y)\n",
    "#train_kNN_estimators(X, y)\n",
    "train_random_forests(X, y)\n",
    "# train_dummy_classifier(X, y)"
   ],
   "metadata": {
    "collapsed": false,
    "pycharm": {
     "name": "#%%\n"
    }
   }
  }
 ],
 "metadata": {
  "interpreter": {
   "hash": "aee8b7b246df8f9039afb4144a1f6fd8d2ca17a180786b69acc140d282b71a49"
  },
  "kernelspec": {
   "name": "pycharm-1b24e8a1",
   "language": "python",
   "display_name": "PyCharm (comp432)"
  },
  "language_info": {
   "codemirror_mode": {
    "name": "ipython",
    "version": 3
   },
   "file_extension": ".py",
   "mimetype": "text/x-python",
   "name": "python",
   "nbconvert_exporter": "python",
   "pygments_lexer": "ipython3",
   "version": "3.9.7"
  },
  "orig_nbformat": 4
 },
 "nbformat": 4,
 "nbformat_minor": 2
}