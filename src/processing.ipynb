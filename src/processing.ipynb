{
 "cells": [
  {
   "cell_type": "code",
   "execution_count": null,
   "id": "1650ed74",
   "metadata": {},
   "outputs": [],
   "source": [
    "import numpy as np\n",
    "import pandas as pd\n",
    "pd.options.mode.chained_assignment = None\n",
    "import matplotlib\n",
    "import matplotlib.pyplot as plt\n",
    "import seaborn as sns\n",
    "sns.set()\n",
    "import sklearn\n",
    "import sklearn.model_selection"
   ]
  },
  {
   "cell_type": "markdown",
   "id": "eaf5e9a0",
   "metadata": {},
   "source": [
    "## Data"
   ]
  },
  {
   "cell_type": "code",
   "execution_count": null,
   "id": "3fb72635",
   "metadata": {},
   "outputs": [],
   "source": [
    "# match dataset\n",
    "df = pd.read_csv('../data/raw/lol-data-matches.csv').drop(columns=['Unnamed: 0'])\n",
    "# match frames dataset\n",
    "df1 = pd.read_csv('../data/raw/lol-data-match-frames.csv').drop(columns=['Unnamed: 0'])\n",
    "# class labels\n",
    "blue, red = -1, 1\n",
    "frame = 25\n",
    "random_state = 0\n",
    "dpi = 300\n",
    "# filter by frame\n",
    "df1 = df1[df1['frame'] == frame]\n",
    "\n",
    "# highlighting the number of duplicate data points in datasets\n",
    "print('Number of duplicate data points in lol-data-matches.csv: '\n",
    "     + str(df.duplicated(subset=['match_id']).sum()))\n",
    "print('Number of duplicate data points in lol-data-match-frames.csv: '\n",
    "     + str(df1.duplicated(subset=['match_id']).sum()))\n",
    "\n",
    "# Discarding duplicate data points\n",
    "df.drop_duplicates(subset=['match_id'], inplace=True)\n",
    "df1.drop_duplicates(subset=['match_id'], inplace=True)\n",
    "\n",
    "# Merging on the match data frames as some matches might end before the selected frame\n",
    "df = pd.merge(df1, df, on='match_id')\n",
    "\n",
    "# highlighting data points with missing features\n",
    "print('Number of data points with missing features: ')\n",
    "for f in df.columns[df.isna().any()].tolist():\n",
    "    print(f + ': ' + str(df.loc[df[f].isna()].shape[0]))\n",
    "\n",
    "# Discarding data points with missing class label\n",
    "df.dropna(subset=['winning_team'], inplace=True)\n",
    "\n",
    "# highlighting initial set of features, class and tier distribution\n",
    "print('Initial set of features:\\n', df.columns.tolist())\n",
    "print('Initial class distribution:\\nBlue: ' + '%.2f%%' % ((df.groupby('winning_team').size().tolist()[0]/df.shape[0])*100)\n",
    "      + '\\nRed: ' + '%.2f%%' % ((df.groupby('winning_team').size().tolist()[1]/df.shape[0])*100))\n",
    "print('Initial tier distribution: \\nBronze: ', df.groupby('tier').size().tolist()[0],\n",
    "     '\\nGold:', df.groupby('tier').size().tolist()[1], '\\nDiamond:', df.groupby('tier').size().tolist()[2],\n",
    "     '\\nGrandmaster:', df.groupby('tier').size().tolist()[3])\n",
    "df.describe()"
   ]
  },
  {
   "cell_type": "markdown",
   "id": "98e9d475",
   "metadata": {},
   "source": [
    "## Data Preprocessing"
   ]
  },
  {
   "cell_type": "markdown",
   "id": "84eac5b6",
   "metadata": {},
   "source": [
    "### Sampling"
   ]
  },
  {
   "cell_type": "code",
   "execution_count": null,
   "id": "c52f2798",
   "metadata": {},
   "outputs": [],
   "source": [
    "# Sampling equal number of data points from each tier\n",
    "n = 4900\n",
    "bronze = df[df['tier'] == 'BRONZE'].sample(n, random_state=random_state)\n",
    "gold = df[df['tier'] == 'GOLD'].sample(n, random_state=random_state)\n",
    "diamond = df[df['tier'] == 'DIAMOND'].sample(n, random_state=random_state)\n",
    "gm = df[df['tier'] == 'GRANDMASTERS'].sample(n, random_state=random_state)\n",
    "df = bronze.append([gold, diamond, gm])\n",
    "print('Sample class distribution:\\nBlue: ' + '%.2f%%' % ((df.groupby('winning_team').size().tolist()[0]/df.shape[0])*100)\n",
    "      + '\\nRed: ' + '%.2f%%' % ((df.groupby('winning_team').size().tolist()[1]/df.shape[0])*100))"
   ]
  },
  {
   "cell_type": "markdown",
   "id": "642e1eaf",
   "metadata": {},
   "source": [
    "### Data Cleaning and Formatting"
   ]
  },
  {
   "cell_type": "code",
   "execution_count": null,
   "id": "64b246bb",
   "metadata": {},
   "outputs": [],
   "source": [
    "# Discarding irrelevant features\n",
    "df.drop(columns=['match_id', 'frame', 'division', 'patch', 'region'], inplace=True)\n",
    "# Dragon, inhibitor, rift_herald are available after the 5th minute\n",
    "if frame < 5:\n",
    "    df.drop(columns=['red_dragons', 'blue_dragons', 'red_inhibitors',\n",
    "                     'blue_inhibitors', 'red_rift_heralds', 'blue_rift_heralds'], inplace=True)\n",
    "# Baron is available after the 20th minute\n",
    "if frame < 20:\n",
    "    df.drop(columns=['red_barons', 'blue_barons'], inplace=True)\n",
    "# Replacing missing values with 0 and class labels with chosen values\n",
    "df.replace({200: red, 100: blue, np.nan:0}, inplace=True)\n",
    "df.rename(columns={'winning_team': 'winner', 'first_champion':'first_kill'}, inplace=True)\n",
    "print('Set of features after removing irrelevant features and renaming:\\n', df.columns.tolist())"
   ]
  },
  {
   "cell_type": "markdown",
   "id": "f4d7adc3",
   "metadata": {},
   "source": [
    "### Feature Transformation"
   ]
  },
  {
   "cell_type": "markdown",
   "id": "a671d750",
   "metadata": {},
   "source": [
    "#### Binary\n",
    "Adding an advantage column for each objective and filling the rows by comparing objective values in the teams columns.\n",
    "If red = blue the value assigned to the advantage column will be 0 else if red > blue the value will be 1 else it will be -1.\n",
    "Discarding the objective columns once the advantage column is built."
   ]
  },
  {
   "cell_type": "code",
   "execution_count": null,
   "id": "961d90c1",
   "metadata": {},
   "outputs": [],
   "source": [
    "# Deep copy of the df\n",
    "df_bi = df.copy(deep=True)\n",
    "df_bi['kill_advantage'] = np.where(df_bi['red_total_kills'] == df_bi['blue_total_kills'], 0, \n",
    "                        np.where(df_bi['red_total_kills'] > df_bi['blue_total_kills'], red, blue))\n",
    "df_bi.drop(columns=['red_total_kills', 'blue_total_kills'], inplace=True)\n",
    "df_bi['gold_advantage'] = np.where(df_bi['red_total_gold'] == df_bi['blue_total_gold'], 0,\n",
    "                        np.where(df_bi['red_total_gold'] > df_bi['blue_total_gold'], red, blue))\n",
    "df_bi.drop(columns=['red_total_gold', 'blue_total_gold'], inplace=True)\n",
    "df_bi['cs_advantage'] = np.where(df_bi['red_total_cs'] == df_bi['blue_total_cs'], 0,\n",
    "                        np.where(df_bi['red_total_cs'] > df_bi['blue_total_cs'], red, blue))\n",
    "df_bi.drop(columns=['red_total_cs', 'blue_total_cs'], inplace=True)\n",
    "df_bi['damage_advantage'] = np.where(df_bi['red_total_damage'] == df_bi['blue_total_damage'], 0,\n",
    "                        np.where(df_bi['red_total_damage'] > df_bi['blue_total_damage'], red, blue))\n",
    "df_bi.drop(columns=['red_total_damage', 'blue_total_damage'], inplace=True)\n",
    "df_bi['tower_advantage'] = np.where(df_bi['red_towers'] == df_bi['blue_towers'], 0,\n",
    "                        np.where(df_bi['red_towers'] > df_bi['blue_towers'], red, blue))\n",
    "df_bi.drop(columns=['red_towers', 'blue_towers'], inplace=True)\n",
    "df_bi['plate_advantage'] = np.where(df_bi['red_plates'] == df_bi['blue_plates'],0, \n",
    "                        np.where(df_bi['red_plates'] > df_bi['blue_plates'], red, blue))\n",
    "df_bi.drop(columns=['red_plates', 'blue_plates'], inplace=True)\n",
    "# Dragon, inhibitor, rift_herald are available after the 5th minute\n",
    "if frame > 5:\n",
    "    df_bi['inhibitor_advantage'] = np.where(df_bi['red_inhibitors'] == df_bi['blue_inhibitors'], 0, \n",
    "                            np.where(df_bi['red_inhibitors'] > df_bi['blue_inhibitors'], red, blue))\n",
    "    df_bi.drop(columns=['red_inhibitors', 'blue_inhibitors'], inplace=True)\n",
    "    df_bi['dragon_advantage'] = np.where(df_bi['red_dragons'] == df_bi['blue_dragons'], 0,\n",
    "                            np.where(df_bi['red_dragons'] > df_bi['blue_dragons'], red, blue))\n",
    "    df_bi.drop(columns=['red_dragons', 'blue_dragons'], inplace=True)\n",
    "    df_bi['rift_advantage'] = np.where(df_bi['red_rift_heralds'] == df_bi['blue_rift_heralds'], 0,\n",
    "                            np.where(df_bi['red_rift_heralds'] > df_bi['blue_rift_heralds'], red, blue))\n",
    "    df_bi.drop(columns=['red_rift_heralds', 'blue_rift_heralds'], inplace=True)\n",
    "# Baron is available after the 20th minute\n",
    "if frame > 20:\n",
    "    df_bi['baron_advantage'] = np.where(df_bi['red_barons'] == df_bi['blue_barons'],0, \n",
    "                            np.where(df_bi['red_barons'] > df_bi['blue_barons'], red, blue))\n",
    "    df_bi.drop(columns=['red_barons', 'blue_barons'], inplace=True)\n",
    "print('Set of features after binary feature transformation:\\n', df_bi.columns.tolist())"
   ]
  },
  {
   "cell_type": "markdown",
   "id": "d03a70ea",
   "metadata": {},
   "source": [
    "#### Difference\n",
    "Adding an advantage column for each objective and filling the rows by subtracting the objective values in the teams columns.\n",
    "If red = blue the value assigned to the advantage column will be 0 else if red > blue the value will be positive else it will be Negative.\n",
    "Discarding the objective columns once the advantage column is built."
   ]
  },
  {
   "cell_type": "code",
   "execution_count": null,
   "id": "9563b027",
   "metadata": {},
   "outputs": [],
   "source": [
    "# Deep copy of the df\n",
    "df_diff = df.copy(deep=True)\n",
    "df_diff['kill_advantage'] = df_diff['red_total_kills'] - df_diff['blue_total_kills']\n",
    "df_diff.drop(columns=['red_total_kills', 'blue_total_kills'], inplace=True)\n",
    "df_diff['gold_advantage'] = df_diff['red_total_gold'] - df_diff['blue_total_gold']\n",
    "df_diff.drop(columns=['red_total_gold', 'blue_total_gold'], inplace=True)\n",
    "df_diff['cs_advantage'] = df_diff['red_total_cs'] - df_diff['blue_total_cs']\n",
    "df_diff.drop(columns=['red_total_cs', 'blue_total_cs'], inplace=True)\n",
    "df_diff['damage_advantage'] = df_diff['red_total_damage'] - df_diff['blue_total_damage']\n",
    "df_diff.drop(columns=['red_total_damage', 'blue_total_damage'], inplace=True)\n",
    "df_diff['tower_advantage'] = df_diff['red_towers'] - df_diff['blue_towers']\n",
    "df_diff.drop(columns=['red_towers', 'blue_towers'], inplace=True)\n",
    "df_diff['plate_advantage'] = df_diff['red_plates'] - df_diff['blue_plates']\n",
    "df_diff.drop(columns=['red_plates', 'blue_plates'], inplace=True)\n",
    "# Dragon, inhibitor, rift_herald are available after the 5th minute\n",
    "if frame > 5:\n",
    "    df_diff['inhibitor_advantage'] = df_diff['red_inhibitors'] - df_diff['blue_inhibitors']\n",
    "    df_diff.drop(columns=['red_inhibitors', 'blue_inhibitors'], inplace=True)\n",
    "    df_diff['dragon_advantage'] = df_diff['red_dragons'] - df_diff['blue_dragons']\n",
    "    df_diff.drop(columns=['red_dragons', 'blue_dragons'], inplace=True)\n",
    "    df_diff['rift_advantage'] = df_diff['red_rift_heralds'] - df_diff['blue_rift_heralds']\n",
    "    df_diff.drop(columns=['red_rift_heralds', 'blue_rift_heralds'], inplace=True)\n",
    "# Baron is available after the 20th minute\n",
    "if frame > 20:\n",
    "    df_diff['baron_advantage'] = df_diff['red_barons'] - df_diff['blue_barons']\n",
    "    df_diff.drop(columns=['red_barons', 'blue_barons'], inplace=True)\n",
    "print('Set of features after difference feature transformation:\\n', df_diff.columns.tolist())"
   ]
  },
  {
   "cell_type": "markdown",
   "id": "a7502bf8",
   "metadata": {},
   "source": [
    "## Feature Importance Analysis\n",
    "Splitting the data into training and test sets. Training data will be used for feature importance analysis.\n",
    "Splitting each tier separately and stratifying the class label to maintain same tier distribution in training and test sets."
   ]
  },
  {
   "cell_type": "code",
   "execution_count": null,
   "id": "2d62c6d2",
   "metadata": {},
   "outputs": [],
   "source": [
    "bronze = df_bi[df_bi['tier'] == 'BRONZE']\n",
    "gold = df_bi[df_bi['tier'] == 'GOLD']\n",
    "diamond = df_bi[df_bi['tier'] == 'DIAMOND']\n",
    "gm = df_bi[df_bi['tier'] == 'GRANDMASTERS']\n",
    "bronze_train, bronze_test = sklearn.model_selection.train_test_split(bronze, train_size=0.8, test_size=0.2,\n",
    "                            random_state=random_state, stratify=bronze['winner'])\n",
    "gold_train, gold_test = sklearn.model_selection.train_test_split(gold, train_size=0.8, test_size=0.2,\n",
    "                            random_state=random_state, stratify=gold['winner'])\n",
    "diamond_train, diamond_test = sklearn.model_selection.train_test_split(diamond, train_size=0.8, test_size=0.2,\n",
    "                            random_state=random_state, stratify=diamond['winner'])\n",
    "gm_train, gm_test = sklearn.model_selection.train_test_split(gm, train_size=0.8, test_size=0.2,\n",
    "                            random_state=random_state, stratify=gm['winner'])\n",
    "df_bi_train = bronze_train.append([gold_train, diamond_train, gm_train])\n",
    "df_bi_test = bronze_test.append([gold_test, diamond_test, gm_test])\n",
    "print('Class distribution in training data:\\nBlue: ' + '%.2f%%' % ((df_bi_train.groupby('winner').size().tolist()[0]/df_bi_train.shape[0])*100)\n",
    "      + '\\nRed: ' + '%.2f%%' % ((df_bi_train.groupby('winner').size().tolist()[1]/df_bi_train.shape[0])*100))"
   ]
  },
  {
   "cell_type": "code",
   "execution_count": null,
   "id": "a7462a2a",
   "metadata": {},
   "outputs": [],
   "source": []
  },
  {
   "cell_type": "markdown",
   "id": "62e98652",
   "metadata": {},
   "source": [
    "### Binary Features"
   ]
  },
  {
   "cell_type": "code",
   "execution_count": null,
   "id": "85e0535a",
   "metadata": {},
   "outputs": [],
   "source": [
    "# plotting the pair wise correlation of each feature with class label\n",
    "def plot_objective_first(df, f):\n",
    "    fig = plt.figure(dpi=dpi, figsize=(12,5))\n",
    "    pd.crosstab(df[f], df['winner'], normalize='columns').plot(\n",
    "        kind='bar', color=['b', 'r'], title= f + ' vs winner (normalized)', ax=fig.add_subplot(121))\n",
    "    plt.ylabel('win percentage')\n",
    "    plt.legend(bbox_to_anchor = (1.0, 1.0), loc='upper left');\n",
    "    # Plotting for normalized values\n",
    "    pd.crosstab(df[f], df['winner']).plot(\n",
    "        kind='bar', color=['b', 'r'], title= f + ' vs winner', ax=fig.add_subplot(122))\n",
    "    plt.ylabel('win count')\n",
    "    plt.legend(bbox_to_anchor = (1.0, 1.0), loc='upper left');\n",
    "    plt.tight_layout()\n",
    "\n",
    "plt_df = df_bi_train.drop(columns=['tier', 'game_duration']).replace({-1:'blue', 0:'none', 1:'red'})\n",
    "for f in plt_df.drop(columns=['winner']):\n",
    "    plot_objective_first(plt_df, f)"
   ]
  },
  {
   "cell_type": "code",
   "execution_count": null,
   "id": "96c5c4c1",
   "metadata": {},
   "outputs": [],
   "source": [
    "def plot_correlation_bar_plot(df, title):\n",
    "    plt.figure(dpi=dpi, figsize=(12, 10))\n",
    "    plot = plt.barh(df.sort_values().index.tolist(), df.sort_values(), color=sns.color_palette(as_cmap=True))\n",
    "    plt.title(title)\n",
    "    plt.xlabel('correlation');\n",
    "    for bar in plot:\n",
    "        width = bar.get_width()\n",
    "        if width < 0:\n",
    "            width -= 0.03\n",
    "        else:\n",
    "            width += 0.03  \n",
    "        plt.text(width, bar.get_y()+0.3, '%.3f' % width, ha='center', va='bottom')\n",
    "\n",
    "# plotting the correlation of features' transformed using binary method with class label\n",
    "plt_df = df_bi_train.corr()['winner'].drop(['game_duration', 'winner', 'first_kill', 'first_tower',\n",
    "        'first_inhibitor', 'first_baron', 'first_dragon', 'first_rift_herald'])\n",
    "plot_correlation_bar_plot(plt_df, title='Binary Features\\' Correlation with Class Label')"
   ]
  },
  {
   "cell_type": "markdown",
   "id": "6bc8ad78",
   "metadata": {},
   "source": [
    "### Difference Features"
   ]
  },
  {
   "cell_type": "code",
   "execution_count": null,
   "id": "014cd07d",
   "metadata": {},
   "outputs": [],
   "source": [
    "bronze = df_diff[df_diff['tier'] == 'BRONZE']\n",
    "gold = df_diff[df_diff['tier'] == 'GOLD']\n",
    "diamond = df_diff[df_diff['tier'] == 'DIAMOND']\n",
    "gm = df_diff[df_diff['tier'] == 'GRANDMASTERS']\n",
    "bronze_train, bronze_test = sklearn.model_selection.train_test_split(bronze, train_size=0.8, test_size=0.2,\n",
    "                            random_state=random_state, stratify=bronze['winner'])\n",
    "gold_train, gold_test = sklearn.model_selection.train_test_split(gold, train_size=0.8, test_size=0.2,\n",
    "                            random_state=random_state, stratify=gold['winner'])\n",
    "diamond_train, diamond_test = sklearn.model_selection.train_test_split(diamond, train_size=0.8, test_size=0.2,\n",
    "                            random_state=random_state, stratify=diamond['winner'])\n",
    "gm_train, gm_test = sklearn.model_selection.train_test_split(gm, train_size=0.8, test_size=0.2,\n",
    "                            random_state=random_state, stratify=gm['winner'])\n",
    "df_diff_train = bronze_train.append([gold_train, diamond_train, gm_train])\n",
    "df_diff_test = bronze_test.append([gold_test, diamond_test, gm_test])\n",
    "print('Class distribution in training data:\\nBlue:' + '%.2f%%' % ((df_diff_train.groupby('winner').size().tolist()[0]/df_diff_train .shape[0])*100)\n",
    "      + '\\nRed:' + '%.2f%%' % ((df_diff_train .groupby('winner').size().tolist()[1]/df_diff_train.shape[0])*100))"
   ]
  },
  {
   "cell_type": "code",
   "execution_count": null,
   "id": "7db89f10",
   "metadata": {},
   "outputs": [],
   "source": [
    "# plotting the correlation of features' transformed using difference method with class label\n",
    "plt_df = df_diff_train.corr()['winner'].drop(['game_duration', 'winner', 'first_kill', 'first_tower',\n",
    "        'first_inhibitor', 'first_baron', 'first_dragon', 'first_rift_herald'])\n",
    "plot_correlation_bar_plot(plt_df, title='Difference Features\\' Correlation with Class Label')"
   ]
  },
  {
   "cell_type": "code",
   "execution_count": null,
   "id": "c0273ed0",
   "metadata": {},
   "outputs": [],
   "source": [
    "# plotting the correlation of features' transformed using difference method and \n",
    "# an initial objective features with class label\n",
    "\n",
    "plt_df = df_diff_train.corr()['winner'].drop(['game_duration', 'winner'])\n",
    "plot_correlation_bar_plot(plt_df, title='Difference Features\\' Correlation with Class Label')\n"
   ]
  },
  {
   "cell_type": "code",
   "execution_count": null,
   "id": "c8533072",
   "metadata": {},
   "outputs": [],
   "source": [
    "df_bi_train.to_csv('../data/processed/bi_train.csv')\n",
    "df_bi_test.to_csv('../data/processed/bi_test.csv')\n",
    "df_diff_train.to_csv('../data/processed/diff_train.csv')\n",
    "df_diff_test.to_csv('../data/processed/diff_test.csv')"
   ]
  },
  {
   "cell_type": "code",
   "execution_count": null,
   "id": "03aa6308",
   "metadata": {},
   "outputs": [],
   "source": []
  }
 ],
 "metadata": {
  "kernelspec": {
   "display_name": "Python 3 (ipykernel)",
   "language": "python",
   "name": "python3"
  },
  "language_info": {
   "codemirror_mode": {
    "name": "ipython",
    "version": 3
   },
   "file_extension": ".py",
   "mimetype": "text/x-python",
   "name": "python",
   "nbconvert_exporter": "python",
   "pygments_lexer": "ipython3",
   "version": "3.8.5"
  }
 },
 "nbformat": 4,
 "nbformat_minor": 5
}
