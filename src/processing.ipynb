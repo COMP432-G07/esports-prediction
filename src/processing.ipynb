{
 "cells": [
  {
   "cell_type": "code",
   "execution_count": 49,
   "id": "1650ed74",
   "metadata": {},
   "outputs": [],
   "source": [
    "import numpy as np\n",
    "import pandas as pd\n",
    "import matplotlib\n",
    "import matplotlib.pyplot as plt\n",
    "import seaborn as sns\n",
    "import sklearn\n",
    "import sklearn.model_selection\n",
    "pd.options.mode.chained_assignment = None\n",
    "sns.set()"
   ]
  },
  {
   "cell_type": "code",
   "execution_count": 50,
   "id": "f7763f0f",
   "metadata": {},
   "outputs": [],
   "source": [
    "FRAME_COLUMNS = [\n",
    "    'blue_total_kills', 'blue_total_gold', 'blue_total_cs', 'blue_total_damage', 'blue_towers',\n",
    "    'blue_plates', 'blue_inhibitors', 'blue_barons', 'blue_dragons', 'blue_rift_heralds',\n",
    "    'red_total_kills', 'red_total_gold', 'red_total_cs', 'red_total_damage', 'red_towers',\n",
    "    'red_plates', 'red_inhibitors', 'red_barons', 'red_dragons', 'red_rift_heralds'\n",
    "]\n",
    "ADVANTAGE_COLUMNS = [\n",
    "    'kill_advantage', 'gold_advantage', 'cs_advantage', 'damage_advantage', 'tower_advantage',\n",
    "    'plate_advantage', 'inhibitor_advantage', 'dragon_advantage', 'rift_advantage', 'baron_advantage'\n",
    "]"
   ]
  },
  {
   "cell_type": "code",
   "execution_count": 51,
   "id": "17578443",
   "metadata": {},
   "outputs": [],
   "source": [
    "# match dataset\n",
    "df = pd.read_csv('../data/raw/lol-data-matches.csv')\n",
    "# match frames dataset\n",
    "df1 = pd.read_csv('../data/raw/lol-data-match-frames.csv')"
   ]
  },
  {
   "cell_type": "markdown",
   "id": "eaf5e9a0",
   "metadata": {},
   "source": [
    "## Data"
   ]
  },
  {
   "cell_type": "code",
   "execution_count": 52,
   "id": "3fb72635",
   "metadata": {},
   "outputs": [
    {
     "name": "stdout",
     "output_type": "stream",
     "text": [
      "Number of duplicate data points in lol-data-matches.csv: 80\n",
      "Number of duplicate data points in lol-data-match-frames.csv: 0\n",
      "Number of data points with missing features: \n",
      "winning_team: 1\n",
      "first_champion: 95\n",
      "first_inhibitor: 1023\n",
      "first_baron: 4125\n",
      "first_dragon: 2\n",
      "first_rift_herald: 1826\n",
      "Initial set of features:\n",
      " ['match_id', 'frame', 'blue_total_kills', 'blue_total_gold', 'blue_total_cs', 'blue_total_damage', 'blue_towers', 'blue_plates', 'blue_inhibitors', 'blue_barons', 'blue_dragons', 'blue_rift_heralds', 'red_total_kills', 'red_total_gold', 'red_total_cs', 'red_total_damage', 'red_towers', 'red_plates', 'red_inhibitors', 'red_barons', 'red_dragons', 'red_rift_heralds', 'tier', 'division', 'patch', 'game_duration', 'region', 'winning_team', 'first_champion', 'first_tower', 'first_inhibitor', 'first_baron', 'first_dragon', 'first_rift_herald']\n",
      "Total number of data points: 26503\n",
      "Initial class distribution:\n",
      "Blue: 50.24%\n",
      "Red: 49.76%\n",
      "Initial tier distribution: \n",
      "Bronze:  8545 \n",
      "Gold: 7023 \n",
      "Diamond: 5968 \n",
      "Grandmaster: 4967\n"
     ]
    },
    {
     "data": {
      "text/html": [
       "<div>\n",
       "<style scoped>\n",
       "    .dataframe tbody tr th:only-of-type {\n",
       "        vertical-align: middle;\n",
       "    }\n",
       "\n",
       "    .dataframe tbody tr th {\n",
       "        vertical-align: top;\n",
       "    }\n",
       "\n",
       "    .dataframe thead th {\n",
       "        text-align: right;\n",
       "    }\n",
       "</style>\n",
       "<table border=\"1\" class=\"dataframe\">\n",
       "  <thead>\n",
       "    <tr style=\"text-align: right;\">\n",
       "      <th></th>\n",
       "      <th>frame</th>\n",
       "      <th>blue_total_kills</th>\n",
       "      <th>blue_total_gold</th>\n",
       "      <th>blue_total_cs</th>\n",
       "      <th>blue_total_damage</th>\n",
       "      <th>blue_towers</th>\n",
       "      <th>blue_plates</th>\n",
       "      <th>blue_inhibitors</th>\n",
       "      <th>blue_barons</th>\n",
       "      <th>blue_dragons</th>\n",
       "      <th>...</th>\n",
       "      <th>red_rift_heralds</th>\n",
       "      <th>patch</th>\n",
       "      <th>game_duration</th>\n",
       "      <th>winning_team</th>\n",
       "      <th>first_champion</th>\n",
       "      <th>first_tower</th>\n",
       "      <th>first_inhibitor</th>\n",
       "      <th>first_baron</th>\n",
       "      <th>first_dragon</th>\n",
       "      <th>first_rift_herald</th>\n",
       "    </tr>\n",
       "  </thead>\n",
       "  <tbody>\n",
       "    <tr>\n",
       "      <th>count</th>\n",
       "      <td>26503.0</td>\n",
       "      <td>26503.000000</td>\n",
       "      <td>26503.000000</td>\n",
       "      <td>26503.000000</td>\n",
       "      <td>26503.000000</td>\n",
       "      <td>26503.000000</td>\n",
       "      <td>26503.000000</td>\n",
       "      <td>26503.000000</td>\n",
       "      <td>26503.000000</td>\n",
       "      <td>26503.000000</td>\n",
       "      <td>...</td>\n",
       "      <td>26503.000000</td>\n",
       "      <td>26503.000000</td>\n",
       "      <td>26503.000000</td>\n",
       "      <td>26503.000000</td>\n",
       "      <td>26408.000000</td>\n",
       "      <td>26503.000000</td>\n",
       "      <td>25480.000000</td>\n",
       "      <td>22378.000000</td>\n",
       "      <td>26501.000000</td>\n",
       "      <td>24677.000000</td>\n",
       "    </tr>\n",
       "    <tr>\n",
       "      <th>mean</th>\n",
       "      <td>25.0</td>\n",
       "      <td>23.489077</td>\n",
       "      <td>46368.470966</td>\n",
       "      <td>634.957250</td>\n",
       "      <td>64389.033996</td>\n",
       "      <td>3.516281</td>\n",
       "      <td>5.966570</td>\n",
       "      <td>0.168170</td>\n",
       "      <td>0.181791</td>\n",
       "      <td>1.503641</td>\n",
       "      <td>...</td>\n",
       "      <td>0.651926</td>\n",
       "      <td>11.232137</td>\n",
       "      <td>1889.525978</td>\n",
       "      <td>149.756631</td>\n",
       "      <td>149.553166</td>\n",
       "      <td>148.926537</td>\n",
       "      <td>149.014914</td>\n",
       "      <td>151.434445</td>\n",
       "      <td>152.084827</td>\n",
       "      <td>146.338696</td>\n",
       "    </tr>\n",
       "    <tr>\n",
       "      <th>std</th>\n",
       "      <td>0.0</td>\n",
       "      <td>7.321355</td>\n",
       "      <td>4872.028454</td>\n",
       "      <td>90.445933</td>\n",
       "      <td>12222.859931</td>\n",
       "      <td>2.125618</td>\n",
       "      <td>3.071055</td>\n",
       "      <td>0.476109</td>\n",
       "      <td>0.385679</td>\n",
       "      <td>1.055179</td>\n",
       "      <td>...</td>\n",
       "      <td>0.701939</td>\n",
       "      <td>0.179024</td>\n",
       "      <td>318.954011</td>\n",
       "      <td>50.000351</td>\n",
       "      <td>49.998950</td>\n",
       "      <td>49.989419</td>\n",
       "      <td>49.991276</td>\n",
       "      <td>49.980536</td>\n",
       "      <td>49.957459</td>\n",
       "      <td>49.866779</td>\n",
       "    </tr>\n",
       "    <tr>\n",
       "      <th>min</th>\n",
       "      <td>25.0</td>\n",
       "      <td>2.000000</td>\n",
       "      <td>28731.000000</td>\n",
       "      <td>304.000000</td>\n",
       "      <td>21233.000000</td>\n",
       "      <td>0.000000</td>\n",
       "      <td>0.000000</td>\n",
       "      <td>0.000000</td>\n",
       "      <td>0.000000</td>\n",
       "      <td>0.000000</td>\n",
       "      <td>...</td>\n",
       "      <td>0.000000</td>\n",
       "      <td>10.250000</td>\n",
       "      <td>1440.000000</td>\n",
       "      <td>100.000000</td>\n",
       "      <td>100.000000</td>\n",
       "      <td>100.000000</td>\n",
       "      <td>100.000000</td>\n",
       "      <td>100.000000</td>\n",
       "      <td>100.000000</td>\n",
       "      <td>100.000000</td>\n",
       "    </tr>\n",
       "    <tr>\n",
       "      <th>25%</th>\n",
       "      <td>25.0</td>\n",
       "      <td>18.000000</td>\n",
       "      <td>43055.500000</td>\n",
       "      <td>572.000000</td>\n",
       "      <td>55953.500000</td>\n",
       "      <td>2.000000</td>\n",
       "      <td>4.000000</td>\n",
       "      <td>0.000000</td>\n",
       "      <td>0.000000</td>\n",
       "      <td>1.000000</td>\n",
       "      <td>...</td>\n",
       "      <td>0.000000</td>\n",
       "      <td>11.180000</td>\n",
       "      <td>1645.000000</td>\n",
       "      <td>100.000000</td>\n",
       "      <td>100.000000</td>\n",
       "      <td>100.000000</td>\n",
       "      <td>100.000000</td>\n",
       "      <td>100.000000</td>\n",
       "      <td>100.000000</td>\n",
       "      <td>100.000000</td>\n",
       "    </tr>\n",
       "    <tr>\n",
       "      <th>50%</th>\n",
       "      <td>25.0</td>\n",
       "      <td>23.000000</td>\n",
       "      <td>46300.000000</td>\n",
       "      <td>640.000000</td>\n",
       "      <td>63823.000000</td>\n",
       "      <td>3.000000</td>\n",
       "      <td>6.000000</td>\n",
       "      <td>0.000000</td>\n",
       "      <td>0.000000</td>\n",
       "      <td>1.000000</td>\n",
       "      <td>...</td>\n",
       "      <td>1.000000</td>\n",
       "      <td>11.210000</td>\n",
       "      <td>1834.000000</td>\n",
       "      <td>100.000000</td>\n",
       "      <td>100.000000</td>\n",
       "      <td>100.000000</td>\n",
       "      <td>100.000000</td>\n",
       "      <td>200.000000</td>\n",
       "      <td>200.000000</td>\n",
       "      <td>100.000000</td>\n",
       "    </tr>\n",
       "    <tr>\n",
       "      <th>75%</th>\n",
       "      <td>25.0</td>\n",
       "      <td>28.000000</td>\n",
       "      <td>49634.500000</td>\n",
       "      <td>701.000000</td>\n",
       "      <td>72236.000000</td>\n",
       "      <td>5.000000</td>\n",
       "      <td>8.000000</td>\n",
       "      <td>0.000000</td>\n",
       "      <td>0.000000</td>\n",
       "      <td>2.000000</td>\n",
       "      <td>...</td>\n",
       "      <td>1.000000</td>\n",
       "      <td>11.210000</td>\n",
       "      <td>2072.000000</td>\n",
       "      <td>200.000000</td>\n",
       "      <td>200.000000</td>\n",
       "      <td>200.000000</td>\n",
       "      <td>200.000000</td>\n",
       "      <td>200.000000</td>\n",
       "      <td>200.000000</td>\n",
       "      <td>200.000000</td>\n",
       "    </tr>\n",
       "    <tr>\n",
       "      <th>max</th>\n",
       "      <td>25.0</td>\n",
       "      <td>62.000000</td>\n",
       "      <td>66058.000000</td>\n",
       "      <td>928.000000</td>\n",
       "      <td>118208.000000</td>\n",
       "      <td>11.000000</td>\n",
       "      <td>15.000000</td>\n",
       "      <td>5.000000</td>\n",
       "      <td>1.000000</td>\n",
       "      <td>4.000000</td>\n",
       "      <td>...</td>\n",
       "      <td>2.000000</td>\n",
       "      <td>11.900000</td>\n",
       "      <td>3649.000000</td>\n",
       "      <td>200.000000</td>\n",
       "      <td>200.000000</td>\n",
       "      <td>200.000000</td>\n",
       "      <td>200.000000</td>\n",
       "      <td>200.000000</td>\n",
       "      <td>200.000000</td>\n",
       "      <td>200.000000</td>\n",
       "    </tr>\n",
       "  </tbody>\n",
       "</table>\n",
       "<p>8 rows × 30 columns</p>\n",
       "</div>"
      ],
      "text/plain": [
       "         frame  blue_total_kills  blue_total_gold  blue_total_cs  \\\n",
       "count  26503.0      26503.000000     26503.000000   26503.000000   \n",
       "mean      25.0         23.489077     46368.470966     634.957250   \n",
       "std        0.0          7.321355      4872.028454      90.445933   \n",
       "min       25.0          2.000000     28731.000000     304.000000   \n",
       "25%       25.0         18.000000     43055.500000     572.000000   \n",
       "50%       25.0         23.000000     46300.000000     640.000000   \n",
       "75%       25.0         28.000000     49634.500000     701.000000   \n",
       "max       25.0         62.000000     66058.000000     928.000000   \n",
       "\n",
       "       blue_total_damage   blue_towers   blue_plates  blue_inhibitors  \\\n",
       "count       26503.000000  26503.000000  26503.000000     26503.000000   \n",
       "mean        64389.033996      3.516281      5.966570         0.168170   \n",
       "std         12222.859931      2.125618      3.071055         0.476109   \n",
       "min         21233.000000      0.000000      0.000000         0.000000   \n",
       "25%         55953.500000      2.000000      4.000000         0.000000   \n",
       "50%         63823.000000      3.000000      6.000000         0.000000   \n",
       "75%         72236.000000      5.000000      8.000000         0.000000   \n",
       "max        118208.000000     11.000000     15.000000         5.000000   \n",
       "\n",
       "        blue_barons  blue_dragons  ...  red_rift_heralds         patch  \\\n",
       "count  26503.000000  26503.000000  ...      26503.000000  26503.000000   \n",
       "mean       0.181791      1.503641  ...          0.651926     11.232137   \n",
       "std        0.385679      1.055179  ...          0.701939      0.179024   \n",
       "min        0.000000      0.000000  ...          0.000000     10.250000   \n",
       "25%        0.000000      1.000000  ...          0.000000     11.180000   \n",
       "50%        0.000000      1.000000  ...          1.000000     11.210000   \n",
       "75%        0.000000      2.000000  ...          1.000000     11.210000   \n",
       "max        1.000000      4.000000  ...          2.000000     11.900000   \n",
       "\n",
       "       game_duration  winning_team  first_champion   first_tower  \\\n",
       "count   26503.000000  26503.000000    26408.000000  26503.000000   \n",
       "mean     1889.525978    149.756631      149.553166    148.926537   \n",
       "std       318.954011     50.000351       49.998950     49.989419   \n",
       "min      1440.000000    100.000000      100.000000    100.000000   \n",
       "25%      1645.000000    100.000000      100.000000    100.000000   \n",
       "50%      1834.000000    100.000000      100.000000    100.000000   \n",
       "75%      2072.000000    200.000000      200.000000    200.000000   \n",
       "max      3649.000000    200.000000      200.000000    200.000000   \n",
       "\n",
       "       first_inhibitor   first_baron  first_dragon  first_rift_herald  \n",
       "count     25480.000000  22378.000000  26501.000000       24677.000000  \n",
       "mean        149.014914    151.434445    152.084827         146.338696  \n",
       "std          49.991276     49.980536     49.957459          49.866779  \n",
       "min         100.000000    100.000000    100.000000         100.000000  \n",
       "25%         100.000000    100.000000    100.000000         100.000000  \n",
       "50%         100.000000    200.000000    200.000000         100.000000  \n",
       "75%         200.000000    200.000000    200.000000         200.000000  \n",
       "max         200.000000    200.000000    200.000000         200.000000  \n",
       "\n",
       "[8 rows x 30 columns]"
      ]
     },
     "execution_count": 52,
     "metadata": {},
     "output_type": "execute_result"
    }
   ],
   "source": [
    "# match dataset\n",
    "df = pd.read_csv('../data/raw/lol-data-matches.csv')\n",
    "# match frames dataset\n",
    "df1 = pd.read_csv('../data/raw/lol-data-match-frames.csv')\n",
    "# class labels\n",
    "blue, red = -1, 1\n",
    "frame = 25\n",
    "random_state = 0\n",
    "dpi = 300\n",
    "# filter by frame\n",
    "df1 = df1[df1['frame'] == frame]\n",
    "\n",
    "# highlighting the number of duplicate data points in datasets\n",
    "print('Number of duplicate data points in lol-data-matches.csv: '\n",
    "     + str(df.duplicated(subset=['match_id']).sum()))\n",
    "print('Number of duplicate data points in lol-data-match-frames.csv: '\n",
    "     + str(df1.duplicated(subset=['match_id']).sum()))\n",
    "\n",
    "# Discarding duplicate data points\n",
    "df.drop_duplicates(subset=['match_id'], inplace=True)\n",
    "df1.drop_duplicates(subset=['match_id'], inplace=True)\n",
    "\n",
    "# Merging on the match data frames as some matches might end before the selected frame\n",
    "df = pd.merge(df1, df, on='match_id')\n",
    "\n",
    "# highlighting data points with missing features\n",
    "print('Number of data points with missing features: ')\n",
    "for f in df.columns[df.isna().any()].tolist():\n",
    "    print(f + ': ' + str(df.loc[df[f].isna()].shape[0]))\n",
    "\n",
    "# Discarding data points with missing class label\n",
    "df.dropna(subset=['winning_team'], inplace=True)\n",
    "\n",
    "# highlighting initial set of features, class and tier distribution\n",
    "print('Initial set of features:\\n', df.columns.tolist())\n",
    "print('Total number of data points: ' + str(df.shape[0]))\n",
    "print('Initial class distribution:\\nBlue: ' + '%.2f%%' % ((df.groupby('winning_team').size().tolist()[0]/df.shape[0])*100)\n",
    "      + '\\nRed: ' + '%.2f%%' % ((df.groupby('winning_team').size().tolist()[1]/df.shape[0])*100))\n",
    "print('Initial tier distribution: \\nBronze: ', df.groupby('tier').size().tolist()[0],\n",
    "     '\\nGold:', df.groupby('tier').size().tolist()[1], '\\nDiamond:', df.groupby('tier').size().tolist()[2],\n",
    "     '\\nGrandmaster:', df.groupby('tier').size().tolist()[3])\n",
    "df.describe()"
   ]
  },
  {
   "cell_type": "markdown",
   "id": "98e9d475",
   "metadata": {},
   "source": [
    "## Data Preprocessing"
   ]
  },
  {
   "cell_type": "markdown",
   "id": "84eac5b6",
   "metadata": {},
   "source": [
    "### Sampling"
   ]
  },
  {
   "cell_type": "code",
   "execution_count": 53,
   "id": "c52f2798",
   "metadata": {},
   "outputs": [],
   "source": [
    "# Sampling equal number of data points from each tier\n",
    "n = 4900\n",
    "TIERS = ['BRONZE', 'GOLD', 'DIAMOND', 'GRANDMASTERS']\n",
    "df = pd.concat([df[df['tier'] == t].sample(n, random_state=random_state) for t in TIERS])"
   ]
  },
  {
   "cell_type": "code",
   "execution_count": 54,
   "id": "c79cd484",
   "metadata": {},
   "outputs": [
    {
     "name": "stdout",
     "output_type": "stream",
     "text": [
      "Sample size: 19600\n",
      "Sample class distribution:\n",
      "Blue: 50.06%\n",
      "Red: 49.94%\n"
     ]
    },
    {
     "data": {
      "text/plain": [
       "(19600, 34)"
      ]
     },
     "execution_count": 54,
     "metadata": {},
     "output_type": "execute_result"
    }
   ],
   "source": [
    "print('Sample size: ' + str(df.shape[0]) + \n",
    "      '\\nSample class distribution:\\nBlue: ' + '%.2f%%' % ((df.groupby('winning_team').size().tolist()[0]/df.shape[0])*100)\n",
    "      + '\\nRed: ' + '%.2f%%' % ((df.groupby('winning_team').size().tolist()[1]/df.shape[0])*100))\n",
    "df.shape"
   ]
  },
  {
   "cell_type": "markdown",
   "id": "642e1eaf",
   "metadata": {},
   "source": [
    "### Data Cleaning and Formatting"
   ]
  },
  {
   "cell_type": "code",
   "execution_count": 55,
   "id": "64b246bb",
   "metadata": {},
   "outputs": [],
   "source": [
    "# Discarding irrelevant features\n",
    "df.drop(columns=['game_duration', 'match_id', 'frame', 'division', 'patch', 'region'], inplace=True)\n",
    "\n",
    "# # Dragon, inhibitor, rift_herald are available after the 5th minute\n",
    "# if frame < 5:\n",
    "#     df.drop(columns=['red_dragons', 'blue_dragons', 'red_inhibitors',\n",
    "#                      'blue_inhibitors', 'red_rift_heralds', 'blue_rift_heralds'], inplace=True)\n",
    "\n",
    "# # Baron is available after the 20th minute\n",
    "# if frame < 20:\n",
    "#     df.drop(columns=['red_barons', 'blue_barons'], inplace=True)\n",
    "\n",
    "# Replacing missing values with 0 and class labels with chosen values\n",
    "df.replace({200: red, 100: blue, np.nan:0}, inplace=True)\n",
    "df.rename(columns={'winning_team': 'winner', 'first_champion':'first_kill'}, inplace=True)"
   ]
  },
  {
   "cell_type": "code",
   "execution_count": 56,
   "id": "cb647c37",
   "metadata": {},
   "outputs": [
    {
     "name": "stdout",
     "output_type": "stream",
     "text": [
      "Sample size after data cleaning: 19600\n",
      "Set of features after removing irrelevant features and renaming:\n",
      " ['blue_total_kills', 'blue_total_gold', 'blue_total_cs', 'blue_total_damage', 'blue_towers', 'blue_plates', 'blue_inhibitors', 'blue_barons', 'blue_dragons', 'blue_rift_heralds', 'red_total_kills', 'red_total_gold', 'red_total_cs', 'red_total_damage', 'red_towers', 'red_plates', 'red_inhibitors', 'red_barons', 'red_dragons', 'red_rift_heralds', 'tier', 'winner', 'first_kill', 'first_tower', 'first_inhibitor', 'first_baron', 'first_dragon', 'first_rift_herald']\n"
     ]
    }
   ],
   "source": [
    "print('Sample size after data cleaning: ' + str(df.shape[0]) +\n",
    "      '\\nSet of features after removing irrelevant features and renaming:\\n', df.columns.tolist())"
   ]
  },
  {
   "cell_type": "markdown",
   "id": "f4d7adc3",
   "metadata": {},
   "source": [
    "### Feature Transformation"
   ]
  },
  {
   "cell_type": "markdown",
   "id": "a671d750",
   "metadata": {},
   "source": [
    "#### Binary\n",
    "Adding an advantage column for each objective and filling the rows by comparing objective values in the teams columns.\n",
    "If red = blue the value assigned to the advantage column will be 0 else if red > blue the value will be 1 else it will be -1.\n",
    "Discarding the objective columns once the advantage column is built."
   ]
  },
  {
   "cell_type": "code",
   "execution_count": 73,
   "id": "679f93a3",
   "metadata": {},
   "outputs": [
    {
     "name": "stdout",
     "output_type": "stream",
     "text": [
      "RangeIndex(start=0, stop=19600, step=1)\n",
      "RangeIndex(start=0, stop=19600, step=1)\n",
      "(19600, 39)\n",
      "Index(['index', 'blue_total_kills', 'blue_total_gold', 'blue_total_cs',\n",
      "       'blue_total_damage', 'blue_towers', 'blue_plates', 'blue_inhibitors',\n",
      "       'blue_barons', 'blue_dragons', 'blue_rift_heralds', 'red_total_kills',\n",
      "       'red_total_gold', 'red_total_cs', 'red_total_damage', 'red_towers',\n",
      "       'red_plates', 'red_inhibitors', 'red_barons', 'red_dragons',\n",
      "       'red_rift_heralds', 'tier', 'winner', 'first_kill', 'first_tower',\n",
      "       'first_inhibitor', 'first_baron', 'first_dragon', 'first_rift_herald',\n",
      "       'kill_advantage', 'gold_advantage', 'cs_advantage', 'damage_advantage',\n",
      "       'tower_advantage', 'plate_advantage', 'inhibitor_advantage',\n",
      "       'dragon_advantage', 'rift_advantage', 'baron_advantage'],\n",
      "      dtype='object')\n"
     ]
    },
    {
     "name": "stderr",
     "output_type": "stream",
     "text": [
      "/var/folders/8f/bhbkz3d15092mz0j035dvmmd1sf1fb/T/ipykernel_79959/3051718247.py:8: RuntimeWarning: invalid value encountered in true_divide\n",
      "  return (x[0] - x[1])/abs(x[0]-x[1]) if binary else x[0] - x[1]\n"
     ]
    }
   ],
   "source": [
    "# Deep copy of the df\n",
    "altered_df = df[FRAME_COLUMNS].copy(deep=True)\n",
    "df_copy = df.copy(deep=True).reset_index()\n",
    "\n",
    "#  Collapse each blue features to their red features by subtracting them\n",
    "def combine(x, binary=False):\n",
    "    x = x.reshape(2,10)\n",
    "    return (x[0] - x[1])/abs(x[0]-x[1]) if binary else x[0] - x[1]\n",
    "\n",
    "altered_df_diff = pd.DataFrame(data=np.apply_along_axis(combine, 1, altered_df.values), columns=ADVANTAGE_COLUMNS)\n",
    "altered_df_bi = pd.DataFrame(data=np.apply_along_axis(combine, 1, altered_df.values, binary=True), columns=ADVANTAGE_COLUMNS)\n",
    "print(altered_df_diff.index)\n",
    "print(df_copy.index)\n",
    "df_bi_new = pd.concat([df_copy, altered_df_bi.fillna(0)], axis=1)\n",
    "df_diff_new = pd.concat([df_copy, altered_df_diff], axis=1)\n",
    "\n",
    "if frame < 5:\n",
    "    df_diff_new.drop(columns=['inhibitor_advantage','dragon_advantage','rift_advantage'], inplace=True)\n",
    "    df_bi_new.drop(columns=['inhibitor_advantage','dragon_advantage','rift_advantage'], inplace=True)\n",
    "if frame < 20:\n",
    "    df_diff_new.drop(columns=['baron_advantage'], inplace=True)\n",
    "    df_bi_new.drop(columns=['baron_advantage'], inplace=True)\n"
   ]
  },
  {
   "cell_type": "code",
   "execution_count": 74,
   "id": "eb2799cd",
   "metadata": {},
   "outputs": [
    {
     "data": {
      "text/plain": [
       "0        38\n",
       "1         4\n",
       "2         3\n",
       "3       -18\n",
       "4        20\n",
       "         ..\n",
       "19595   -13\n",
       "19596    -1\n",
       "19597    -9\n",
       "19598     2\n",
       "19599    -3\n",
       "Name: kill_advantage, Length: 19600, dtype: int64"
      ]
     },
     "execution_count": 74,
     "metadata": {},
     "output_type": "execute_result"
    }
   ],
   "source": [
    "df_diff_new['kill_advantage']"
   ]
  },
  {
   "cell_type": "code",
   "execution_count": 75,
   "id": "961d90c1",
   "metadata": {},
   "outputs": [],
   "source": [
    "# Deep copy of the df\n",
    "df_bi = df.copy(deep=True)\n",
    "\n",
    "df_bi['kill_advantage'] = np.where(df_bi['red_total_kills'] == df_bi['blue_total_kills'], 0, \n",
    "                        np.where(df_bi['red_total_kills'] > df_bi['blue_total_kills'], red, blue))\n",
    "df_bi.drop(columns=['red_total_kills', 'blue_total_kills'], inplace=True)\n",
    "df_bi['gold_advantage'] = np.where(df_bi['red_total_gold'] == df_bi['blue_total_gold'], 0,\n",
    "                        np.where(df_bi['red_total_gold'] > df_bi['blue_total_gold'], red, blue))\n",
    "df_bi.drop(columns=['red_total_gold', 'blue_total_gold'], inplace=True)\n",
    "df_bi['cs_advantage'] = np.where(df_bi['red_total_cs'] == df_bi['blue_total_cs'], 0,\n",
    "                        np.where(df_bi['red_total_cs'] > df_bi['blue_total_cs'], red, blue))\n",
    "df_bi.drop(columns=['red_total_cs', 'blue_total_cs'], inplace=True)\n",
    "df_bi['damage_advantage'] = np.where(df_bi['red_total_damage'] == df_bi['blue_total_damage'], 0,\n",
    "                        np.where(df_bi['red_total_damage'] > df_bi['blue_total_damage'], red, blue))\n",
    "df_bi.drop(columns=['red_total_damage', 'blue_total_damage'], inplace=True)\n",
    "df_bi['tower_advantage'] = np.where(df_bi['red_towers'] == df_bi['blue_towers'], 0,\n",
    "                        np.where(df_bi['red_towers'] > df_bi['blue_towers'], red, blue))\n",
    "df_bi.drop(columns=['red_towers', 'blue_towers'], inplace=True)\n",
    "df_bi['plate_advantage'] = np.where(df_bi['red_plates'] == df_bi['blue_plates'],0, \n",
    "                        np.where(df_bi['red_plates'] > df_bi['blue_plates'], red, blue))\n",
    "df_bi.drop(columns=['red_plates', 'blue_plates'], inplace=True)\n",
    "# Dragon, inhibitor, rift_herald are available after the 5th minute\n",
    "if frame > 5:\n",
    "    df_bi['inhibitor_advantage'] = np.where(df_bi['red_inhibitors'] == df_bi['blue_inhibitors'], 0, \n",
    "                            np.where(df_bi['red_inhibitors'] > df_bi['blue_inhibitors'], red, blue))\n",
    "    df_bi.drop(columns=['red_inhibitors', 'blue_inhibitors'], inplace=True)\n",
    "    df_bi['dragon_advantage'] = np.where(df_bi['red_dragons'] == df_bi['blue_dragons'], 0,\n",
    "                            np.where(df_bi['red_dragons'] > df_bi['blue_dragons'], red, blue))\n",
    "    df_bi.drop(columns=['red_dragons', 'blue_dragons'], inplace=True)\n",
    "    df_bi['rift_advantage'] = np.where(df_bi['red_rift_heralds'] == df_bi['blue_rift_heralds'], 0,\n",
    "                            np.where(df_bi['red_rift_heralds'] > df_bi['blue_rift_heralds'], red, blue))\n",
    "    df_bi.drop(columns=['red_rift_heralds', 'blue_rift_heralds'], inplace=True)\n",
    "# Baron is available after the 20th minute\n",
    "if frame > 20:\n",
    "    df_bi['baron_advantage'] = np.where(df_bi['red_barons'] == df_bi['blue_barons'],0, \n",
    "                            np.where(df_bi['red_barons'] > df_bi['blue_barons'], red, blue))\n",
    "    df_bi.drop(columns=['red_barons', 'blue_barons'], inplace=True)"
   ]
  },
  {
   "cell_type": "code",
   "execution_count": 76,
   "id": "4987eddf",
   "metadata": {},
   "outputs": [
    {
     "name": "stdout",
     "output_type": "stream",
     "text": [
      "Sample size after binary feature transformation: 19600\n",
      "Set of features after binary feature transformation:\n",
      " ['tier', 'winner', 'first_kill', 'first_tower', 'first_inhibitor', 'first_baron', 'first_dragon', 'first_rift_herald', 'kill_advantage', 'gold_advantage', 'cs_advantage', 'damage_advantage', 'tower_advantage', 'plate_advantage', 'inhibitor_advantage', 'dragon_advantage', 'rift_advantage', 'baron_advantage']\n"
     ]
    }
   ],
   "source": [
    "print('Sample size after binary feature transformation: ' + str(df_bi.shape[0]) +\n",
    "      '\\nSet of features after binary feature transformation:\\n', df_bi.columns.tolist())"
   ]
  },
  {
   "cell_type": "markdown",
   "id": "d03a70ea",
   "metadata": {},
   "source": [
    "#### Difference\n",
    "Adding an advantage column for each objective and filling the rows by subtracting the objective values in the teams columns.\n",
    "If red = blue the value assigned to the advantage column will be 0 else if red > blue the value will be positive else it will be Negative.\n",
    "Discarding the objective columns once the advantage column is built."
   ]
  },
  {
   "cell_type": "code",
   "execution_count": 77,
   "id": "9563b027",
   "metadata": {},
   "outputs": [],
   "source": [
    "# Deep copy of the df\n",
    "df_diff = df.copy(deep=True)\n",
    "df_diff['kill_advantage'] = df_diff['red_total_kills'] - df_diff['blue_total_kills']\n",
    "df_diff.drop(columns=['red_total_kills', 'blue_total_kills'], inplace=True)\n",
    "df_diff['gold_advantage'] = df_diff['red_total_gold'] - df_diff['blue_total_gold']\n",
    "df_diff.drop(columns=['red_total_gold', 'blue_total_gold'], inplace=True)\n",
    "df_diff['cs_advantage'] = df_diff['red_total_cs'] - df_diff['blue_total_cs']\n",
    "df_diff.drop(columns=['red_total_cs', 'blue_total_cs'], inplace=True)\n",
    "df_diff['damage_advantage'] = df_diff['red_total_damage'] - df_diff['blue_total_damage']\n",
    "df_diff.drop(columns=['red_total_damage', 'blue_total_damage'], inplace=True)\n",
    "df_diff['tower_advantage'] = df_diff['red_towers'] - df_diff['blue_towers']\n",
    "df_diff.drop(columns=['red_towers', 'blue_towers'], inplace=True)\n",
    "df_diff['plate_advantage'] = df_diff['red_plates'] - df_diff['blue_plates']\n",
    "df_diff.drop(columns=['red_plates', 'blue_plates'], inplace=True)\n",
    "# Dragon, inhibitor, rift_herald are available after the 5th minute\n",
    "if frame > 5:\n",
    "    df_diff['inhibitor_advantage'] = df_diff['red_inhibitors'] - df_diff['blue_inhibitors']\n",
    "    df_diff.drop(columns=['red_inhibitors', 'blue_inhibitors'], inplace=True)\n",
    "    df_diff['dragon_advantage'] = df_diff['red_dragons'] - df_diff['blue_dragons']\n",
    "    df_diff.drop(columns=['red_dragons', 'blue_dragons'], inplace=True)\n",
    "    df_diff['rift_advantage'] = df_diff['red_rift_heralds'] - df_diff['blue_rift_heralds']\n",
    "    df_diff.drop(columns=['red_rift_heralds', 'blue_rift_heralds'], inplace=True)\n",
    "# Baron is available after the 20th minute\n",
    "if frame > 20:\n",
    "    df_diff['baron_advantage'] = df_diff['red_barons'] - df_diff['blue_barons']\n",
    "    df_diff.drop(columns=['red_barons', 'blue_barons'], inplace=True)"
   ]
  },
  {
   "cell_type": "code",
   "execution_count": 80,
   "id": "17b88837",
   "metadata": {},
   "outputs": [
    {
     "name": "stdout",
     "output_type": "stream",
     "text": [
      "[-38  -4  -3 ...   9  -2   3]\n",
      "[38  4  3 ... -9  2 -3]\n",
      "kill_advantage\n"
     ]
    },
    {
     "ename": "AssertionError",
     "evalue": "",
     "output_type": "error",
     "traceback": [
      "\u001b[0;31m---------------------------------------------------------------------------\u001b[0m",
      "\u001b[0;31mAssertionError\u001b[0m                            Traceback (most recent call last)",
      "\u001b[0;32m/var/folders/8f/bhbkz3d15092mz0j035dvmmd1sf1fb/T/ipykernel_79959/3013382273.py\u001b[0m in \u001b[0;36m<module>\u001b[0;34m\u001b[0m\n\u001b[1;32m      4\u001b[0m     \u001b[0mprint\u001b[0m\u001b[0;34m(\u001b[0m\u001b[0mcolumn_name\u001b[0m\u001b[0;34m)\u001b[0m\u001b[0;34m\u001b[0m\u001b[0;34m\u001b[0m\u001b[0m\n\u001b[1;32m      5\u001b[0m     \u001b[0;32massert\u001b[0m \u001b[0mnp\u001b[0m\u001b[0;34m.\u001b[0m\u001b[0mall\u001b[0m\u001b[0;34m(\u001b[0m\u001b[0mdf_diff\u001b[0m\u001b[0;34m[\u001b[0m\u001b[0mcolumn_name\u001b[0m\u001b[0;34m]\u001b[0m\u001b[0;34m.\u001b[0m\u001b[0mvalues\u001b[0m \u001b[0;34m==\u001b[0m \u001b[0;34m(\u001b[0m\u001b[0mdf_diff_new\u001b[0m\u001b[0;34m[\u001b[0m\u001b[0mcolumn_name\u001b[0m\u001b[0;34m]\u001b[0m\u001b[0;34m.\u001b[0m\u001b[0mvalues\u001b[0m \u001b[0;34m*\u001b[0m \u001b[0;34m-\u001b[0m\u001b[0;36m1\u001b[0m\u001b[0;34m)\u001b[0m\u001b[0;34m)\u001b[0m\u001b[0;34m\u001b[0m\u001b[0;34m\u001b[0m\u001b[0m\n\u001b[0;32m----> 6\u001b[0;31m     \u001b[0;32massert\u001b[0m \u001b[0mnp\u001b[0m\u001b[0;34m.\u001b[0m\u001b[0mall\u001b[0m\u001b[0;34m(\u001b[0m\u001b[0mdf_bi\u001b[0m\u001b[0;34m[\u001b[0m\u001b[0mcolumn_name\u001b[0m\u001b[0;34m]\u001b[0m\u001b[0;34m.\u001b[0m\u001b[0mvalues\u001b[0m \u001b[0;34m==\u001b[0m \u001b[0mdf_bi_new\u001b[0m\u001b[0;34m[\u001b[0m\u001b[0mcolumn_name\u001b[0m\u001b[0;34m]\u001b[0m\u001b[0;34m.\u001b[0m\u001b[0mvalues\u001b[0m\u001b[0;34m)\u001b[0m\u001b[0;34m\u001b[0m\u001b[0;34m\u001b[0m\u001b[0m\n\u001b[0m",
      "\u001b[0;31mAssertionError\u001b[0m: "
     ]
    }
   ],
   "source": [
    "print(df_diff['kill_advantage'].values)\n",
    "print(df_diff_new['kill_advantage'].values)\n",
    "for column_name in ADVANTAGE_COLUMNS:\n",
    "    print(column_name)\n",
    "    assert np.all(df_diff[column_name].values == (df_diff_new[column_name].values * -1))\n",
    "    assert np.all(df_bi[column_name].values == df_bi_new[column_name].values)"
   ]
  },
  {
   "cell_type": "code",
   "execution_count": null,
   "id": "4a0c6f3b",
   "metadata": {},
   "outputs": [],
   "source": [
    "print('Sample size after difference feature transformation: ' + str(df_diff.shape[0]) +\n",
    "    '\\nSet of features after difference feature transformation:\\n', df_diff.columns.tolist())\n",
    "df_diff.head()"
   ]
  },
  {
   "cell_type": "markdown",
   "id": "a7502bf8",
   "metadata": {},
   "source": [
    "## Feature Importance Analysis\n",
    "Splitting the data into training and test sets. Training data will be used for feature importance analysis.\n",
    "Splitting each tier separately and stratifying the class label to maintain same tier distribution in training and test sets."
   ]
  },
  {
   "cell_type": "code",
   "execution_count": null,
   "id": "2d62c6d2",
   "metadata": {},
   "outputs": [],
   "source": [
    "bronze = df_bi[df_bi['tier'] == 'BRONZE']\n",
    "gold = df_bi[df_bi['tier'] == 'GOLD']\n",
    "diamond = df_bi[df_bi['tier'] == 'DIAMOND']\n",
    "gm = df_bi[df_bi['tier'] == 'GRANDMASTERS']\n",
    "bronze_trn, bronze_tst = sklearn.model_selection.train_test_split(bronze, train_size=0.8, test_size=0.2,\n",
    "                            random_state=random_state, stratify=bronze['winner'])\n",
    "gold_trn, gold_tst = sklearn.model_selection.train_test_split(gold, train_size=0.8, test_size=0.2,\n",
    "                            random_state=random_state, stratify=gold['winner'])\n",
    "diamond_trn, diamond_tst = sklearn.model_selection.train_test_split(diamond, train_size=0.8, test_size=0.2,\n",
    "                            random_state=random_state, stratify=diamond['winner'])\n",
    "gm_trn, gm_tst = sklearn.model_selection.train_test_split(gm, train_size=0.8, test_size=0.2,\n",
    "                            random_state=random_state, stratify=gm['winner'])\n",
    "df_bi_trn = bronze_trn.append([gold_trn, diamond_trn, gm_trn])\n",
    "df_bi_tst = bronze_tst.append([gold_tst, diamond_tst, gm_tst])"
   ]
  },
  {
   "cell_type": "code",
   "execution_count": null,
   "id": "554415c1",
   "metadata": {},
   "outputs": [],
   "source": [
    "print('Number of data points in training set: ' + str(df_bi_trn.shape[0]) + \n",
    "      '\\nNumber of data points in test set: ' + str(df_bi_tst.shape[0]) +\n",
    "      '\\nClass distribution in training data:\\nBlue: ' + '%.2f%%' % ((df_bi_trn.groupby('winner').size().tolist()[0]/df_bi_trn.shape[0])*100)\n",
    "      + '\\nRed: ' + '%.2f%%' % ((df_bi_trn.groupby('winner').size().tolist()[1]/df_bi_trn.shape[0])*100))"
   ]
  },
  {
   "cell_type": "markdown",
   "id": "62e98652",
   "metadata": {},
   "source": [
    "### Binary Features"
   ]
  },
  {
   "cell_type": "code",
   "execution_count": null,
   "id": "85e0535a",
   "metadata": {},
   "outputs": [],
   "source": [
    "# plotting the pair wise correlation of each feature with class label\n",
    "def plot_objective_first(df, f):\n",
    "    fig = plt.figure(dpi=dpi, figsize=(12,5))\n",
    "    pd.crosstab(df[f], df['winner'], normalize='columns').plot(\n",
    "        kind='bar', color=['b', 'r'], title= f + ' vs winner (normalized)', ax=fig.add_subplot(121))\n",
    "    plt.ylabel('win percentage')\n",
    "    plt.legend(bbox_to_anchor = (1.0, 1.0), loc='upper left');\n",
    "    # Plotting for normalized values\n",
    "    pd.crosstab(df[f], df['winner']).plot(\n",
    "        kind='bar', color=['b', 'r'], title= f + ' vs winner', ax=fig.add_subplot(122))\n",
    "    plt.ylabel('win count')\n",
    "    plt.legend(bbox_to_anchor = (1.0, 1.0), loc='upper left');\n",
    "    plt.tight_layout()\n",
    "\n",
    "plt_df = df_bi_trn.drop(columns=['tier']).replace({-1:'blue', 0:'none', 1:'red'})\n",
    "for f in plt_df.drop(columns=['winner']):\n",
    "    plot_objective_first(plt_df, f)"
   ]
  },
  {
   "cell_type": "code",
   "execution_count": null,
   "id": "96c5c4c1",
   "metadata": {},
   "outputs": [],
   "source": [
    "def plot_correlation_bar_plot(df, title):\n",
    "    plt.figure(dpi=dpi, figsize=(12, 10))\n",
    "    plot = plt.barh(df.sort_values().index.tolist(), df.sort_values(), color=sns.color_palette(as_cmap=True))\n",
    "    plt.title(title)\n",
    "    plt.xlabel('correlation');\n",
    "    for bar in plot:\n",
    "        width = bar.get_width() + 0.02\n",
    "        plt.text(width, bar.get_y()+0.3, '%.3f' % bar.get_width(), ha='center', va='bottom')\n",
    "\n",
    "# plotting the correlation of features' transformed using binary method with class label\n",
    "plt_df = df_bi_trn.corr()['winner'].drop(['winner', 'first_kill', 'first_tower',\n",
    "        'first_inhibitor', 'first_baron', 'first_dragon', 'first_rift_herald'])\n",
    "plot_correlation_bar_plot(plt_df, title='Binary Features\\' Correlation with Class Label')"
   ]
  },
  {
   "cell_type": "markdown",
   "id": "6bc8ad78",
   "metadata": {},
   "source": [
    "### Difference Features"
   ]
  },
  {
   "cell_type": "code",
   "execution_count": null,
   "id": "014cd07d",
   "metadata": {},
   "outputs": [],
   "source": [
    "bronze = df_diff[df_diff['tier'] == 'BRONZE']\n",
    "gold = df_diff[df_diff['tier'] == 'GOLD']\n",
    "diamond = df_diff[df_diff['tier'] == 'DIAMOND']\n",
    "gm = df_diff[df_diff['tier'] == 'GRANDMASTERS']\n",
    "bronze_trn, bronze_tst = sklearn.model_selection.train_test_split(bronze, train_size=0.8, test_size=0.2,\n",
    "                            random_state=random_state, stratify=bronze['winner'])\n",
    "gold_trn, gold_tst = sklearn.model_selection.train_test_split(gold, train_size=0.8, test_size=0.2,\n",
    "                            random_state=random_state, stratify=gold['winner'])\n",
    "diamond_trn, diamond_tst = sklearn.model_selection.train_test_split(diamond, train_size=0.8, test_size=0.2,\n",
    "                            random_state=random_state, stratify=diamond['winner'])\n",
    "gm_trn, gm_tst = sklearn.model_selection.train_test_split(gm, train_size=0.8, test_size=0.2,\n",
    "                            random_state=random_state, stratify=gm['winner'])\n",
    "df_diff_trn = bronze_trn.append([gold_trn, diamond_trn, gm_trn])\n",
    "df_diff_tst = bronze_tst.append([gold_tst, diamond_tst, gm_tst])"
   ]
  },
  {
   "cell_type": "code",
   "execution_count": null,
   "id": "cb2a5085",
   "metadata": {},
   "outputs": [],
   "source": [
    "print('Number of data points in training set: ' + str(df_diff_trn.shape[0]) +\n",
    "      '\\nNumber of data points in test set: ' + str(df_diff_tst.shape[0]) +\n",
    "      '\\nClass distribution in training data:\\nBlue:' + '%.2f%%' % ((df_diff_trn.groupby('winner').size().tolist()[0]/df_diff_trn .shape[0])*100)\n",
    "      + '\\nRed:' + '%.2f%%' % ((df_diff_trn .groupby('winner').size().tolist()[1]/df_diff_trn.shape[0])*100))"
   ]
  },
  {
   "cell_type": "code",
   "execution_count": null,
   "id": "7db89f10",
   "metadata": {},
   "outputs": [],
   "source": [
    "# plotting the correlation of features' transformed using difference method with class label\n",
    "plt_df = df_diff_trn.corr()['winner'].drop(['winner', 'first_kill', 'first_tower',\n",
    "        'first_inhibitor', 'first_baron', 'first_dragon', 'first_rift_herald'])\n",
    "plot_correlation_bar_plot(plt_df, title='Difference Features\\' Correlation with Class Label')"
   ]
  },
  {
   "cell_type": "code",
   "execution_count": null,
   "id": "c0273ed0",
   "metadata": {},
   "outputs": [],
   "source": [
    "# plotting the correlation of features' transformed using difference method and \n",
    "# an initial objective features with class label\n",
    "plt_df = df_diff_trn.corr()['winner'].drop(['winner'])\n",
    "plot_correlation_bar_plot(plt_df, title='Difference Features\\' Correlation with Class Label')"
   ]
  },
  {
   "cell_type": "code",
   "execution_count": null,
   "id": "c8533072",
   "metadata": {},
   "outputs": [],
   "source": [
    "df_bi_trn.to_csv('../data/processed/bi_trn.csv')\n",
    "df_bi_tst.to_csv('../data/processed/bi_tst.csv')\n",
    "df_diff_trn.to_csv('../data/processed/diff_trn.csv')\n",
    "df_diff_tst.to_csv('../data/processed/diff_tst.csv')"
   ]
  },
  {
   "cell_type": "code",
   "execution_count": null,
   "id": "6b26d9af",
   "metadata": {},
   "outputs": [],
   "source": []
  }
 ],
 "metadata": {
  "kernelspec": {
   "display_name": "Python 3 (ipykernel)",
   "language": "python",
   "name": "python3"
  },
  "language_info": {
   "codemirror_mode": {
    "name": "ipython",
    "version": 3
   },
   "file_extension": ".py",
   "mimetype": "text/x-python",
   "name": "python",
   "nbconvert_exporter": "python",
   "pygments_lexer": "ipython3",
   "version": "3.8.5"
  }
 },
 "nbformat": 4,
 "nbformat_minor": 5
}
