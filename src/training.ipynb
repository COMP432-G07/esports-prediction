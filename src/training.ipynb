{
 "cells": [
  {
   "cell_type": "code",
   "execution_count": 8,
   "metadata": {},
   "outputs": [],
   "source": [
    "import pandas as pd\n",
    "import numpy as np\n",
    "import matplotlib\n",
    "import matplotlib.pyplot as plt\n",
    "import sklearn\n",
    "import sklearn.model_selection\n",
    "import sklearn.dummy\n",
    "import sklearn.metrics\n",
    "import sklearn.neural_network\n",
    "import sklearn.ensemble\n",
    "from joblib import dump\n",
    "import seaborn as sns\n",
    "import scipy\n",
    "sns.set()"
   ]
  },
  {
   "cell_type": "markdown",
   "metadata": {},
   "source": [
    "Fetch the data frames from the files"
   ]
  },
  {
   "cell_type": "code",
   "execution_count": 9,
   "metadata": {},
   "outputs": [],
   "source": [
    "# read both the matches and the frames\n",
    "trn_df = pd.read_csv('../data/processed/diff_trn.csv').drop(labels=['tier','Unnamed: 0'],axis=1)\n",
    "tst_df = pd.read_csv('../data/processed/diff_tst.csv').drop(labels=['tier','Unnamed: 0'],axis=1)\n",
    "# Reinterpret all values as int32s\n",
    "trn_df = trn_df.astype({\n",
    "    'winner': 'int32',\n",
    "    'first_kill': 'int32',\n",
    "    'first_tower': 'int32',\n",
    "    'first_inhibitor': 'int32',\n",
    "    'first_baron': 'int32',\n",
    "    'first_dragon': 'int32',\n",
    "    'first_rift_herald': 'int32',\n",
    "})\n",
    "\n",
    "tst_df = tst_df.astype({\n",
    "    'winner': 'int32',\n",
    "    'first_kill': 'int32',\n",
    "    'first_tower': 'int32',\n",
    "    'first_inhibitor': 'int32',\n",
    "    'first_baron': 'int32',\n",
    "    'first_dragon': 'int32',\n",
    "    'first_rift_herald': 'int32',\n",
    "})"
   ]
  },
  {
   "cell_type": "markdown",
   "metadata": {},
   "source": [
    "Helper functions to format the data prior to training"
   ]
  },
  {
   "cell_type": "code",
   "execution_count": 29,
   "metadata": {},
   "outputs": [],
   "source": [
    "random_state = 0\n",
    "np.random.seed(random_state)\n",
    "dpi = 300\n",
    "\n",
    "def corr_filter(n):\n",
    "    \"\"\" Filters the set of features based on correlation threshold n.\"\"\"\n",
    "    all_features = list(tuple(zip(trn_df.corr()['winner'].drop(['winner']).index.to_list(),\n",
    "          trn_df.corr()['winner'].drop(['winner']).to_list())))\n",
    "    drop = [i[0] for i in all_features if i[1] < n]\n",
    "    trn_df.drop(columns=drop, inplace=True)\n",
    "    tst_df.drop(columns=drop, inplace=True)\n",
    "\n",
    "def plot_confusion_matrix(estimator, X, y):\n",
    "    \"\"\"Plots the confusion matrix for estimator given X, y as data.\"\"\"\n",
    "    sklearn.metrics.ConfusionMatrixDisplay.from_estimator(estimator, X, y, colorbar=False, cmap='Blues', ax=None, display_labels=['blue','red'])\n",
    "    plt.grid(False)\n",
    "\n",
    "def plot_data(X, y):\n",
    "    \"\"\"Plots the data. Will only work if X has a Shape of (N,2).\"\"\"\n",
    "    plt.scatter(*X[y==-1].T, marker=\"x\", c=\"r\")\n",
    "    plt.scatter(*X[y==1].T, marker=\"x\", c=\"b\")\n",
    "    plt.xlim(0,1)\n",
    "    plt.ylim(0,1)\n",
    "    plt.gca().set_aspect('equal')\n",
    "    plt.grid(False)\n",
    "\n",
    "def plot_decision_function(model):\n",
    "    \"\"\"\n",
    "    Plots the decision function of a model as a red-blue heatmap.\n",
    "    The region evaluated, along with x and y axis limits, are determined by 'extent'.\n",
    "    \"\"\"\n",
    "    extent = (0 , 1, 0, 1)\n",
    "    x1min, x1max ,x2min, x2max = extent\n",
    "    x1, x2 = np.meshgrid(np.linspace(x1min, x1max, 200), np.linspace(x2min, x2max, 200))\n",
    "    X = np.column_stack([x1.ravel(), x2.ravel()])\n",
    "    y = model.decision_function(X).reshape(x1.shape)\n",
    "    plt.imshow(-y, extent=extent, origin='lower', vmin=-1, vmax=1, cmap='bwr', alpha=0.5, interpolation='nearest')\n",
    "    if y.min() < 0 and y.max() > 0:\n",
    "        plt.contour(x1, x2, y, levels=[0], colors=['k'])  # Decision boundary\n",
    "    plt.xlim([x1min, x1max])\n",
    "    plt.ylim([x2min, x2max])\n",
    "    plt.grid(False)\n",
    "    \n",
    "def plot_rf_prediction(model):\n",
    "    \"\"\"\n",
    "    Plots the model's predictions over all points in range 2D [-3, 3].\n",
    "    Assumes at most 3 classes.\n",
    "    \"\"\"\n",
    "    extent = (0, 1, 0, 1)\n",
    "    x1min, x1max ,x2min, x2max = extent\n",
    "    x1, x2 = np.meshgrid(np.linspace(x1min, x1max, 100), np.linspace(x2min, x2max, 100))\n",
    "    X = np.column_stack([x1.ravel(), x2.ravel()])\n",
    "    y = model.predict(X).reshape(x1.shape)\n",
    "    cmap = matplotlib.colors.ListedColormap(['r', 'b', 'g'])\n",
    "    plt.imshow(y, extent=extent, origin='lower', alpha=0.4, vmin=0, vmax=2, cmap=cmap, interpolation='nearest')\n",
    "    plt.xlim([x1min, x1max])\n",
    "    plt.ylim([x2min, x2max])\n",
    "    plt.gca().set_aspect('equal')\n",
    "    plt.grid(False)\n",
    "\n",
    "def scale_data(X_trn, X_tst):\n",
    "    \"\"\"Scales the data with Scikit-learn's MinMax scaler.\"\"\"\n",
    "    scaler = sklearn.preprocessing.MinMaxScaler()\n",
    "    scaler.fit(X_trn)\n",
    "    X_trn = scaler.transform(X_trn)\n",
    "    X_tst = scaler.transform(X_tst)\n",
    "\n",
    "    return X_trn, X_tst\n",
    "\n",
    "def score_estimators(X, y, estimators):\n",
    "    \"\"\"Scores each estimator on (X, y), returning a list of scores.\"\"\"\n",
    "    scores = [0 for _ in range(len(estimators))]\n",
    "    for x in range(len(estimators)):\n",
    "        scores[x] = sklearn.metrics.accuracy_score(y, estimators[x].predict(X))\n",
    "        print(sklearn.metrics.precision_recall_fscore_support(y, estimators[x].predict(X), average='binary'))\n",
    "    return scores\n",
    "\n",
    "def plot_estimator_scores(estimators, param_name, param_vals):\n",
    "    \"\"\"\n",
    "    Plots the training, validation, and testing scores of a list of estimators,\n",
    "    where `param_name` and `param_vals` are the same as for `train_estimators`.\n",
    "    The estimator with best validation score will be highlighted with an 'x'.\n",
    "    \"\"\"\n",
    "    plt.figure(dpi=dpi)\n",
    "    X = np.arange(0, len(param_vals))\n",
    "    trn_scores = score_estimators(X_trn, y_trn, estimators)\n",
    "    tst_scores = score_estimators(X_tst, y_tst, estimators)\n",
    "    index = np.argmin(trn_scores - tst_scores)\n",
    "    print(tst_scores[index])\n",
    "    plt.title(estimators[0].__class__.__name__ + \" score vs \" + param_name)\n",
    "    plt.xlabel(param_name)\n",
    "    plt.ylabel(\"score\")\n",
    "    plt.ylim(0.0, 1.05)\n",
    "    plt.scatter(X[index], tst_scores[index], marker='x', color='black', s=200)\n",
    "    plt.plot(X, trn_scores, marker='o', color='green', markerfacecolor='green', label=\"train\")\n",
    "    plt.plot(X, tst_scores, marker='o', color='red', markerfacecolor='red', label=\"test\")\n",
    "    plt.text(0, 0.4,\n",
    "             \"Optimal Test Accuracy = %.2f%% with %s = %d \" % (tst_scores[index] * 100, param_name, param_vals[index]))\n",
    "    plt.legend()\n",
    "    plt.xticks(X, param_vals)\n",
    "    plt.grid(False)\n",
    "    \n",
    "\n",
    "def rand_param_search(X, y, estimator, param_grid, verbose=1, cv=5, n_iter=10, n_jobs=None):\n",
    "    \"\"\"Performs Randomized hyperparamter search with cross validation.\"\"\"\n",
    "    return sklearn.model_selection.RandomizedSearchCV(estimator, param_grid,verbose=verbose,\n",
    "                                        cv=cv, n_iter=n_iter, n_jobs=n_jobs).fit(X, y)\n",
    "\n",
    "def grid_param_search(X, y, estimator, param_grid, verbose=1, cv=5, n_jobs=None):\n",
    "    \"\"\"Performs Grid hyperparamter search with cross validation.\"\"\"\n",
    "    return sklearn.model_selection.GridSearchCV(estimator, param_grid, verbose=verbose,\n",
    "                                        cv=cv, n_jobs=n_jobs).fit(X, y)"
   ]
  },
  {
   "cell_type": "markdown",
   "metadata": {},
   "source": [
    "Feature selection: Select an X and y we want to train on"
   ]
  },
  {
   "cell_type": "code",
   "execution_count": 11,
   "metadata": {},
   "outputs": [],
   "source": [
    "# Randomly select data points for plots\n",
    "# NOTE: If you would like to get the plotting information, the Training's shape\n",
    "# Must be (N, 2). Change the information below to \n",
    "corr_filter(0.5)\n",
    "indices = np.random.choice(trn_df.shape[0], 200, replace=False)\n",
    "X_trn = trn_df.drop(columns=['winner']).values\n",
    "y_trn = trn_df[['winner']].values.T[0]\n",
    "X_tst = tst_df.drop(columns=['winner']).values\n",
    "y_tst = tst_df[['winner']].values.T[0]"
   ]
  },
  {
   "cell_type": "code",
   "execution_count": 12,
   "metadata": {},
   "outputs": [],
   "source": [
    "# Scale the data with Scikit-learn's MinMax scaler.\n",
    "scaler = sklearn.preprocessing.MinMaxScaler()\n",
    "scaler.fit(X_trn)\n",
    "X_trn = scaler.transform(X_trn)\n",
    "X_tst = scaler.transform(X_tst)"
   ]
  },
  {
   "cell_type": "markdown",
   "metadata": {},
   "source": [
    "## Models"
   ]
  },
  {
   "cell_type": "markdown",
   "metadata": {},
   "source": [
    "### AdaBoost"
   ]
  },
  {
   "cell_type": "code",
   "execution_count": 13,
   "metadata": {},
   "outputs": [
    {
     "name": "stdout",
     "output_type": "stream",
     "text": [
      "Fitting 5 folds for each of 10 candidates, totalling 50 fits\n"
     ]
    }
   ],
   "source": [
    "ab = sklearn.ensemble.AdaBoostClassifier(random_state=random_state)\n",
    "param_grid = {\n",
    "    'n_estimators' : [i for i in scipy.stats.uniform(1, 1000).rvs(10).astype('int32')],\n",
    "    'algorithm' : ['SAMME', 'SAMME.R'] \n",
    "}\n",
    "ab = rand_param_search(X_trn, y_trn, ab, param_grid)"
   ]
  },
  {
   "cell_type": "code",
   "execution_count": 31,
   "metadata": {},
   "outputs": [
    {
     "data": {
      "image/png": "[encoded data removed]",
      "text/plain": [
       "<Figure size 432x288 with 1 Axes>"
      ]
     },
     "metadata": {},
     "output_type": "display_data"
    }
   ],
   "source": [
    "# plot_data(X_trn[indices], y_trn[indices])\n",
    "# plot_rf_prediction(ab.best_estimator_)\n",
    "plot_confusion_matrix(ab.best_estimator_, X_trn, y_trn)"
   ]
  },
  {
   "cell_type": "markdown",
   "metadata": {},
   "source": [
    "### Logistic Regression"
   ]
  },
  {
   "cell_type": "code",
   "execution_count": 32,
   "metadata": {},
   "outputs": [
    {
     "name": "stdout",
     "output_type": "stream",
     "text": [
      "Fitting 5 folds for each of 10 candidates, totalling 50 fits\n"
     ]
    }
   ],
   "source": [
    "lr = sklearn.linear_model.LogisticRegression(random_state=random_state, max_iter=10000)\n",
    "param_grid = {\n",
    "    'C': [i for i in scipy.stats.reciprocal(1e-05, 10).rvs(10)]\n",
    "}\n",
    "lr = rand_param_search(X_trn, y_trn, lr, param_grid, n_jobs=-1)"
   ]
  },
  {
   "cell_type": "code",
   "execution_count": 33,
   "metadata": {},
   "outputs": [
    {
     "data": {
      "image/png": "[encoded data removed]",
      "text/plain": [
       "<Figure size 432x288 with 1 Axes>"
      ]
     },
     "metadata": {},
     "output_type": "display_data"
    }
   ],
   "source": [
    "#plot_data(X_trn[indices], y_trn[indices])\n",
    "#plot_rf_prediction(lr.best_estimator_)\n",
    "plot_confusion_matrix(lr.best_estimator_, X_trn, y_trn)"
   ]
  },
  {
   "cell_type": "markdown",
   "metadata": {},
   "source": [
    "### SVM"
   ]
  },
  {
   "cell_type": "code",
   "execution_count": 34,
   "metadata": {},
   "outputs": [
    {
     "name": "stdout",
     "output_type": "stream",
     "text": [
      "Fitting 5 folds for each of 10 candidates, totalling 50 fits\n"
     ]
    }
   ],
   "source": [
    "svm = sklearn.svm.SVC(random_state=random_state)\n",
    "param_grid = {\n",
    "    'C': [i for i in scipy.stats.reciprocal(0.01, 1000).rvs(10)],\n",
    "    'gamma' : [i for i in scipy.stats.reciprocal(1, 1000).rvs(10)]\n",
    "}\n",
    "svm = rand_param_search(X_trn, y_trn, svm, param_grid)"
   ]
  },
  {
   "cell_type": "code",
   "execution_count": 35,
   "metadata": {},
   "outputs": [
    {
     "data": {
      "image/png": "[encoded data removed]",
      "text/plain": [
       "<Figure size 432x288 with 1 Axes>"
      ]
     },
     "metadata": {},
     "output_type": "display_data"
    }
   ],
   "source": [
    "# plot_data(X_trn[indices], y_trn[indices])\n",
    "# plot_rf_prediction(svm.best_estimator_)\n",
    "# plot_decision_function(svm)\n",
    "plot_confusion_matrix(svm.best_estimator_, X_trn, y_trn)"
   ]
  },
  {
   "cell_type": "markdown",
   "metadata": {},
   "source": [
    "### Dummy Classifier"
   ]
  },
  {
   "cell_type": "code",
   "execution_count": 36,
   "metadata": {},
   "outputs": [
    {
     "data": {
      "text/plain": [
       "DummyClassifier(random_state=0, strategy='uniform')"
      ]
     },
     "execution_count": 36,
     "metadata": {},
     "output_type": "execute_result"
    }
   ],
   "source": [
    "dummy = sklearn.dummy.DummyClassifier(strategy='uniform', random_state=0)\n",
    "dummy.fit(X_trn, y_trn)"
   ]
  },
  {
   "cell_type": "code",
   "execution_count": 37,
   "metadata": {},
   "outputs": [
    {
     "data": {
      "image/png": "[encoded data removed]",
      "text/plain": [
       "<Figure size 432x288 with 1 Axes>"
      ]
     },
     "metadata": {},
     "output_type": "display_data"
    }
   ],
   "source": [
    "#plot_data(X_trn[indices], y_trn[indices])\n",
    "#plot_rf_prediction(dummy)\n",
    "plot_confusion_matrix(dummy, X_trn, y_trn)"
   ]
  },
  {
   "cell_type": "markdown",
   "metadata": {},
   "source": [
    "### kNN "
   ]
  },
  {
   "cell_type": "code",
   "execution_count": 38,
   "metadata": {
    "pycharm": {
     "name": "#%%\n"
    }
   },
   "outputs": [
    {
     "name": "stdout",
     "output_type": "stream",
     "text": [
      "Fitting 5 folds for each of 5 candidates, totalling 25 fits\n"
     ]
    }
   ],
   "source": [
    "param_grid = {\n",
    "    'n_neighbors': [1, 5, 10, 15, 20]\n",
    "}\n",
    "knn = sklearn.neighbors.KNeighborsClassifier()\n",
    "knn = grid_param_search(X_trn, y_trn, estimator=knn, param_grid=param_grid)"
   ]
  },
  {
   "cell_type": "code",
   "execution_count": 39,
   "metadata": {},
   "outputs": [
    {
     "data": {
      "image/png": "[encoded data removed]",
      "text/plain": [
       "<Figure size 432x288 with 1 Axes>"
      ]
     },
     "metadata": {},
     "output_type": "display_data"
    }
   ],
   "source": [
    "# plot_data(X_trn[indices], y_trn[indices])\n",
    "# plot_rf_prediction(knn.best_estimator_)\n",
    "plot_confusion_matrix(knn.best_estimator_, X_trn, y_trn)"
   ]
  },
  {
   "cell_type": "markdown",
   "metadata": {},
   "source": [
    "### Random Forests"
   ]
  },
  {
   "cell_type": "code",
   "execution_count": 40,
   "metadata": {
    "pycharm": {
     "name": "#%%\n"
    }
   },
   "outputs": [
    {
     "name": "stdout",
     "output_type": "stream",
     "text": [
      "Fitting 5 folds for each of 16 candidates, totalling 80 fits\n"
     ]
    }
   ],
   "source": [
    "param_grid = {\n",
    "    'n_estimators': np.arange(1, 5) * 50, \n",
    "    'max_depth': np.arange(1, 5) * 5\n",
    "}\n",
    "rf = sklearn.ensemble.RandomForestClassifier(random_state=0)\n",
    "rf = grid_param_search(X_trn, y_trn, estimator=rf, param_grid=param_grid)"
   ]
  },
  {
   "cell_type": "code",
   "execution_count": 41,
   "metadata": {},
   "outputs": [
    {
     "data": {
      "image/png": "[encoded data removed]",
      "text/plain": [
       "<Figure size 432x288 with 1 Axes>"
      ]
     },
     "metadata": {},
     "output_type": "display_data"
    }
   ],
   "source": [
    "# plot_data(X_trn[indices], y_trn[indices])\n",
    "# plot_rf_prediction(rf.best_estimator_)\n",
    "plot_confusion_matrix(rf.best_estimator_, X_trn, y_trn)"
   ]
  },
  {
   "cell_type": "markdown",
   "metadata": {},
   "source": [
    "### Neural Network"
   ]
  },
  {
   "cell_type": "code",
   "execution_count": null,
   "metadata": {},
   "outputs": [],
   "source": [
    "net = sklearn.neural_network.MLPClassifier(        \n",
    "    learning_rate_init=0.01,\n",
    "    activation='logistic',\n",
    "    hidden_layer_sizes=(2,),\n",
    "    momentum=0.9,\n",
    "    solver='sgd',\n",
    "    random_state=0,\n",
    ")\n",
    "param_grid = [\n",
    "    {\n",
    "        'max_iter': [5, 10, 50, 100, 150, 200]\n",
    "    }\n",
    "]\n",
    "net = grid_param_search(X_trn, y_trn, estimator=net, param_grid=param_grid)"
   ]
  },
  {
   "cell_type": "code",
   "execution_count": 43,
   "metadata": {},
   "outputs": [
    {
     "data": {
      "image/png": "[encoded data removed]",
      "text/plain": [
       "<Figure size 432x288 with 1 Axes>"
      ]
     },
     "metadata": {},
     "output_type": "display_data"
    }
   ],
   "source": [
    "# plot_data(X_trn[indices], y_trn[indices])\n",
    "# plot_rf_prediction(net.best_estimator_)\n",
    "plot_confusion_matrix(net.best_estimator_, X_trn, y_trn)"
   ]
  },
  {
   "cell_type": "markdown",
   "metadata": {},
   "source": [
    "## Evaluation"
   ]
  },
  {
   "cell_type": "markdown",
   "metadata": {},
   "source": [
    "Plotting each prediction"
   ]
  },
  {
   "cell_type": "markdown",
   "metadata": {},
   "source": [
    "### Validation Scores"
   ]
  },
  {
   "cell_type": "code",
   "execution_count": 44,
   "metadata": {},
   "outputs": [
    {
     "data": {
      "text/plain": [
       "[<matplotlib.lines.Line2D at 0x13c3328b0>]"
      ]
     },
     "execution_count": 44,
     "metadata": {},
     "output_type": "execute_result"
    },
    {
     "data": {
      "image/png": "[encoded data removed]",
      "text/plain": [
       "<Figure size 432x288 with 1 Axes>"
      ]
     },
     "metadata": {},
     "output_type": "display_data"
    }
   ],
   "source": [
    "plt.plot(net.cv_results_['mean_test_score'])"
   ]
  },
  {
   "cell_type": "markdown",
   "metadata": {},
   "source": [
    "## Final Scores from best estimators"
   ]
  },
  {
   "cell_type": "code",
   "execution_count": 45,
   "metadata": {},
   "outputs": [
    {
     "name": "stdout",
     "output_type": "stream",
     "text": [
      "Scores for KNeighborsClassifier:\n",
      "Accuracy: 0.9035714285714286\n",
      "Precision: 0.8961364776718515\n",
      "Recall: 0.912621359223301\n",
      "Scores for RandomForestClassifier:\n",
      "Accuracy: 0.9048469387755103\n",
      "Precision: 0.8971915747241725\n",
      "Recall: 0.9141543178334185\n",
      "Scores for AdaBoostClassifier:\n",
      "Accuracy: 0.9025510204081633\n",
      "Precision: 0.8959276018099548\n",
      "Recall: 0.9105774144098109\n",
      "Scores for LogisticRegression:\n",
      "Accuracy: 0.9033163265306122\n",
      "Precision: 0.8992914979757085\n",
      "Recall: 0.9080224833929484\n",
      "Scores for SVC:\n",
      "Accuracy: 0.9043367346938775\n",
      "Precision: 0.8982880161127895\n",
      "Recall: 0.911599386816556\n",
      "Scores for MLPClassifier:\n",
      "Accuracy: 0.9022959183673469\n",
      "Precision: 0.8935\n",
      "Recall: 0.9131323454266734\n"
     ]
    }
   ],
   "source": [
    "for estimator in [knn, rf, ab, lr, svm, net]:\n",
    "    y_pred = estimator.predict(X_tst)\n",
    "    stats = sklearn.metrics.precision_recall_fscore_support(y_tst, y_pred, average='binary')\n",
    "    print(\"Scores for %s:\" % estimator.best_estimator_.__class__.__name__)\n",
    "    print(\"Accuracy: %s\" % sklearn.metrics.accuracy_score(y_tst, y_pred))\n",
    "    print(\"Precision: %s\" % stats[0])\n",
    "    print(\"Recall: %s\" % stats[1])"
   ]
  },
  {
   "cell_type": "markdown",
   "metadata": {},
   "source": [
    "### Misclassifications"
   ]
  },
  {
   "cell_type": "code",
   "execution_count": 46,
   "metadata": {},
   "outputs": [
    {
     "data": {
      "text/html": [
       "<div>\n",
       "<style scoped>\n",
       "    .dataframe tbody tr th:only-of-type {\n",
       "        vertical-align: middle;\n",
       "    }\n",
       "\n",
       "    .dataframe tbody tr th {\n",
       "        vertical-align: top;\n",
       "    }\n",
       "\n",
       "    .dataframe thead th {\n",
       "        text-align: right;\n",
       "    }\n",
       "</style>\n",
       "<table border=\"1\" class=\"dataframe\">\n",
       "  <thead>\n",
       "    <tr style=\"text-align: right;\">\n",
       "      <th></th>\n",
       "      <th>first_inhibitor</th>\n",
       "      <th>first_baron</th>\n",
       "      <th>kill_advantage</th>\n",
       "      <th>gold_advantage</th>\n",
       "      <th>damage_advantage</th>\n",
       "      <th>tower_advantage</th>\n",
       "    </tr>\n",
       "  </thead>\n",
       "  <tbody>\n",
       "    <tr>\n",
       "      <th>0</th>\n",
       "      <td>-1.0</td>\n",
       "      <td>1.0</td>\n",
       "      <td>4.0</td>\n",
       "      <td>-2391.0</td>\n",
       "      <td>-15982.0</td>\n",
       "      <td>-5.0</td>\n",
       "    </tr>\n",
       "    <tr>\n",
       "      <th>1</th>\n",
       "      <td>-1.0</td>\n",
       "      <td>1.0</td>\n",
       "      <td>6.0</td>\n",
       "      <td>-1637.0</td>\n",
       "      <td>-3938.0</td>\n",
       "      <td>-1.0</td>\n",
       "    </tr>\n",
       "    <tr>\n",
       "      <th>2</th>\n",
       "      <td>-1.0</td>\n",
       "      <td>-1.0</td>\n",
       "      <td>7.0</td>\n",
       "      <td>5682.0</td>\n",
       "      <td>15075.0</td>\n",
       "      <td>3.0</td>\n",
       "    </tr>\n",
       "    <tr>\n",
       "      <th>3</th>\n",
       "      <td>-1.0</td>\n",
       "      <td>1.0</td>\n",
       "      <td>5.0</td>\n",
       "      <td>1811.0</td>\n",
       "      <td>13800.0</td>\n",
       "      <td>1.0</td>\n",
       "    </tr>\n",
       "    <tr>\n",
       "      <th>4</th>\n",
       "      <td>-1.0</td>\n",
       "      <td>-1.0</td>\n",
       "      <td>-15.0</td>\n",
       "      <td>-1472.0</td>\n",
       "      <td>-12730.0</td>\n",
       "      <td>-4.0</td>\n",
       "    </tr>\n",
       "    <tr>\n",
       "      <th>5</th>\n",
       "      <td>-1.0</td>\n",
       "      <td>1.0</td>\n",
       "      <td>0.0</td>\n",
       "      <td>-5792.0</td>\n",
       "      <td>-16715.0</td>\n",
       "      <td>-2.0</td>\n",
       "    </tr>\n",
       "    <tr>\n",
       "      <th>6</th>\n",
       "      <td>-1.0</td>\n",
       "      <td>-1.0</td>\n",
       "      <td>6.0</td>\n",
       "      <td>-1331.0</td>\n",
       "      <td>1437.0</td>\n",
       "      <td>0.0</td>\n",
       "    </tr>\n",
       "    <tr>\n",
       "      <th>7</th>\n",
       "      <td>-1.0</td>\n",
       "      <td>-1.0</td>\n",
       "      <td>5.0</td>\n",
       "      <td>-1545.0</td>\n",
       "      <td>-1523.0</td>\n",
       "      <td>-3.0</td>\n",
       "    </tr>\n",
       "    <tr>\n",
       "      <th>8</th>\n",
       "      <td>-1.0</td>\n",
       "      <td>-1.0</td>\n",
       "      <td>-7.0</td>\n",
       "      <td>-3439.0</td>\n",
       "      <td>-4507.0</td>\n",
       "      <td>-4.0</td>\n",
       "    </tr>\n",
       "    <tr>\n",
       "      <th>9</th>\n",
       "      <td>-1.0</td>\n",
       "      <td>-1.0</td>\n",
       "      <td>3.0</td>\n",
       "      <td>1807.0</td>\n",
       "      <td>466.0</td>\n",
       "      <td>3.0</td>\n",
       "    </tr>\n",
       "  </tbody>\n",
       "</table>\n",
       "</div>"
      ],
      "text/plain": [
       "   first_inhibitor  first_baron  kill_advantage  gold_advantage  \\\n",
       "0             -1.0          1.0             4.0         -2391.0   \n",
       "1             -1.0          1.0             6.0         -1637.0   \n",
       "2             -1.0         -1.0             7.0          5682.0   \n",
       "3             -1.0          1.0             5.0          1811.0   \n",
       "4             -1.0         -1.0           -15.0         -1472.0   \n",
       "5             -1.0          1.0             0.0         -5792.0   \n",
       "6             -1.0         -1.0             6.0         -1331.0   \n",
       "7             -1.0         -1.0             5.0         -1545.0   \n",
       "8             -1.0         -1.0            -7.0         -3439.0   \n",
       "9             -1.0         -1.0             3.0          1807.0   \n",
       "\n",
       "   damage_advantage  tower_advantage  \n",
       "0          -15982.0             -5.0  \n",
       "1           -3938.0             -1.0  \n",
       "2           15075.0              3.0  \n",
       "3           13800.0              1.0  \n",
       "4          -12730.0             -4.0  \n",
       "5          -16715.0             -2.0  \n",
       "6            1437.0              0.0  \n",
       "7           -1523.0             -3.0  \n",
       "8           -4507.0             -4.0  \n",
       "9             466.0              3.0  "
      ]
     },
     "execution_count": 46,
     "metadata": {},
     "output_type": "execute_result"
    }
   ],
   "source": [
    "misclassified, = np.nonzero(np.logical_and(y_tst==1, y_pred==-1))\n",
    "pd.DataFrame(data=scaler.inverse_transform(X_tst[misclassified]), columns=trn_df.drop(columns=['winner']).columns).head(n=10)"
   ]
  },
  {
   "cell_type": "code",
   "execution_count": 47,
   "metadata": {},
   "outputs": [
    {
     "data": {
      "text/plain": [
       "['rf_clf.joblib']"
      ]
     },
     "execution_count": 47,
     "metadata": {},
     "output_type": "execute_result"
    }
   ],
   "source": [
    "# Dump each models for the TAs to try them out\n",
    "dump(dummy, 'dm_clf.joblib')\n",
    "dump(lr.best_estimator_, 'logistic_clf.joblib')\n",
    "dump(ab.best_estimator_, 'boost_clf.joblib')\n",
    "dump(svm.best_estimator_, 'svm_clf.joblib')\n",
    "dump(net.best_estimator_, 'nn_clf.joblib')\n",
    "dump(knn.best_estimator_, 'knn_clf.joblib')\n",
    "dump(rf.best_estimator_, 'rf_clf.joblib')"
   ]
  }
 ],
 "metadata": {
  "interpreter": {
   "hash": "aee8b7b246df8f9039afb4144a1f6fd8d2ca17a180786b69acc140d282b71a49"
  },
  "kernelspec": {
   "display_name": "Python 3 (ipykernel)",
   "language": "python",
   "name": "python3"
  },
  "language_info": {
   "codemirror_mode": {
    "name": "ipython",
    "version": 3
   },
   "file_extension": ".py",
   "mimetype": "text/x-python",
   "name": "python",
   "nbconvert_exporter": "python",
   "pygments_lexer": "ipython3",
   "version": "3.8.5"
  }
 },
 "nbformat": 4,
 "nbformat_minor": 2
}
