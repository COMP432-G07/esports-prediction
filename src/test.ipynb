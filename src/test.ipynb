{
 "cells": [
  {
   "cell_type": "code",
   "execution_count": 5,
   "metadata": {},
   "outputs": [],
   "source": [
    "from parsers.match_parser import parse_match\n",
    "from parsers.timeline_parser import parse_sequence"
   ]
  },
  {
   "cell_type": "code",
   "execution_count": 6,
   "metadata": {},
   "outputs": [],
   "source": [
    "import json\n",
    "\n",
    "with open('../match.json') as f:\n",
    "   frame_data = json.load(f)\n",
    "with open('../match_details.json') as f:\n",
    "   match_data = json.load(f)\n"
   ]
  },
  {
   "cell_type": "code",
   "execution_count": 7,
   "metadata": {},
   "outputs": [
    {
     "data": {
      "text/plain": [
       "((0,), 'TOP', 1, 0, 500, 500, 0, 0, 0, 0)"
      ]
     },
     "execution_count": 7,
     "metadata": {},
     "output_type": "execute_result"
    }
   ],
   "source": [
    "frames = parse_sequence(match_data['metadata']['matchId'], frame_data['info']['frames'], match_data)\n",
    "frames[0]"
   ]
  },
  {
   "cell_type": "code",
   "execution_count": 8,
   "metadata": {},
   "outputs": [
    {
     "ename": "NameError",
     "evalue": "name 'participant_role_mapping' is not defined",
     "output_type": "error",
     "traceback": [
      "\u001b[0;31m---------------------------------------------------------------------------\u001b[0m",
      "\u001b[0;31mNameError\u001b[0m                                 Traceback (most recent call last)",
      "Cell \u001b[0;32mIn [8], line 8\u001b[0m\n\u001b[1;32m      6\u001b[0m role_tensors \u001b[39m=\u001b[39m []\n\u001b[1;32m      7\u001b[0m \u001b[39mfor\u001b[39;00m role \u001b[39min\u001b[39;00m ROLES:\n\u001b[0;32m----> 8\u001b[0m   participantIds \u001b[39m=\u001b[39m [p[\u001b[39m0\u001b[39m] \u001b[39mfor\u001b[39;00m p \u001b[39min\u001b[39;00m participant_role_mapping \u001b[39mif\u001b[39;00m p[\u001b[39m1\u001b[39m] \u001b[39m==\u001b[39m role]\n\u001b[1;32m      9\u001b[0m   \u001b[39mprint\u001b[39m(participantIds)\n\u001b[1;32m     12\u001b[0m   \u001b[39mfor\u001b[39;00m p \u001b[39min\u001b[39;00m participantIds:\n",
      "\u001b[0;31mNameError\u001b[0m: name 'participant_role_mapping' is not defined"
     ]
    }
   ],
   "source": [
    "import torch\n",
    "\n",
    "frame_data['info']['frames'][10]['participantFrames']\n",
    "\n",
    "ROLES = ['TOP','JUNGLE','MIDDLE','BOTTOM','UTILITY']\n",
    "role_tensors = []\n",
    "for role in ROLES:\n",
    "  participantIds = [p[0] for p in participant_role_mapping if p[1] == role]\n",
    "  print(participantIds)\n",
    "  \n",
    "  \n",
    "  for p in participantIds:\n",
    "    p_info = frame_data['info']['frames'][10]['participantFrames']['%s' % participantIds[0]]\n",
    "\n",
    "    print([p_info['minionsKilled'], p_info['totalGold'], p_info['xp']])\n",
    "    break\n",
    "  break\n",
    "participant_role_mapping"
   ]
  }
 ],
 "metadata": {
  "kernelspec": {
   "display_name": "jupyter",
   "language": "python",
   "name": "python3"
  },
  "language_info": {
   "codemirror_mode": {
    "name": "ipython",
    "version": 3
   },
   "file_extension": ".py",
   "mimetype": "text/x-python",
   "name": "python",
   "nbconvert_exporter": "python",
   "pygments_lexer": "ipython3",
   "version": "3.10.6"
  },
  "orig_nbformat": 4,
  "vscode": {
   "interpreter": {
    "hash": "a188046c38a3d988ebac87985afd6adffffc9be3924e19d2e5b9257a2ccc7129"
   }
  }
 },
 "nbformat": 4,
 "nbformat_minor": 2
}
