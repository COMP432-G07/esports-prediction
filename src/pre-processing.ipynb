{
 "cells": [
  {
   "cell_type": "code",
   "execution_count": 1,
   "id": "0505efc8",
   "metadata": {},
   "outputs": [],
   "source": [
    "import numpy as np\n",
    "import pandas as pd\n",
    "pd.options.mode.chained_assignment = None "
   ]
  },
  {
   "cell_type": "markdown",
   "id": "28f272b6",
   "metadata": {},
   "source": [
    "## Data"
   ]
  },
  {
   "cell_type": "code",
   "execution_count": 2,
   "id": "5dd36381",
   "metadata": {},
   "outputs": [],
   "source": [
    "df = pd.read_csv('../output/csv/lol-data-matches-fixed-duration.csv')\n",
    "df1 = pd.read_csv('../output/csv/lol-data-match-frames.csv')\n",
    "frame = 15\n",
    "df1 = df1[df1['frame'] == frame]\n",
    "print('Number of duplicate data points in lol-data-matches-fixed-duration.csv: '\n",
    "     + str(df.duplicated(subset=['match_id']).sum()))\n",
    "print('Number of duplicate data points in lol-data-match-frames.csv: '\n",
    "     + str(df1.duplicated(subset=['match_id']).sum()))\n",
    "df.drop_duplicates(subset=['match_id'], inplace=True)\n",
    "df1.drop_duplicates(subset=['match_id'], inplace=True)\n",
    "df = pd.merge(df1, df, on='match_id')"
   ]
  },
  {
   "cell_type": "code",
   "execution_count": null,
   "id": "aef856f3",
   "metadata": {},
   "outputs": [],
   "source": []
  }
 ],
 "metadata": {
  "kernelspec": {
   "display_name": "Python 3 (ipykernel)",
   "language": "python",
   "name": "python3"
  },
  "language_info": {
   "codemirror_mode": {
    "name": "ipython",
    "version": 3
   },
   "file_extension": ".py",
   "mimetype": "text/x-python",
   "name": "python",
   "nbconvert_exporter": "python",
   "pygments_lexer": "ipython3",
   "version": "3.8.5"
  }
 },
 "nbformat": 4,
 "nbformat_minor": 5
}
